{
 "cells": [
  {
   "cell_type": "markdown",
   "id": "1bb43eb0",
   "metadata": {},
   "source": [
    "\n",
    "Análise Exploratória dos Dados do Titanic (EDA)\n",
    "# =================================================="
   ]
  },
  {
   "cell_type": "code",
   "execution_count": 2,
   "id": "d692dedf",
   "metadata": {},
   "outputs": [],
   "source": [
    "import pandas as pd\n",
    "import numpy as np\n",
    "df = pd.read_csv('data/train.csv')"
   ]
  },
  {
   "cell_type": "code",
   "execution_count": 3,
   "id": "08006131",
   "metadata": {},
   "outputs": [
    {
     "data": {
      "application/vnd.microsoft.datawrangler.viewer.v0+json": {
       "columns": [
        {
         "name": "index",
         "rawType": "int64",
         "type": "integer"
        },
        {
         "name": "pclass",
         "rawType": "int64",
         "type": "integer"
        },
        {
         "name": "survived",
         "rawType": "int64",
         "type": "integer"
        },
        {
         "name": "name",
         "rawType": "object",
         "type": "string"
        },
        {
         "name": "sex",
         "rawType": "object",
         "type": "string"
        },
        {
         "name": "age",
         "rawType": "float64",
         "type": "float"
        },
        {
         "name": "sibsp",
         "rawType": "int64",
         "type": "integer"
        },
        {
         "name": "parch",
         "rawType": "int64",
         "type": "integer"
        },
        {
         "name": "ticket",
         "rawType": "object",
         "type": "string"
        },
        {
         "name": "fare",
         "rawType": "float64",
         "type": "float"
        },
        {
         "name": "cabin",
         "rawType": "object",
         "type": "string"
        },
        {
         "name": "embarked",
         "rawType": "object",
         "type": "string"
        },
        {
         "name": "boat",
         "rawType": "object",
         "type": "unknown"
        },
        {
         "name": "body",
         "rawType": "float64",
         "type": "float"
        },
        {
         "name": "home.dest",
         "rawType": "object",
         "type": "string"
        }
       ],
       "ref": "3f1432b4-c404-431a-bc81-274ed3c729ee",
       "rows": [
        [
         "0",
         "1",
         "1",
         "Allen, Miss. Elisabeth Walton",
         "female",
         "29.0",
         "0",
         "0",
         "24160",
         "211.3375",
         "B5",
         "S",
         "2",
         null,
         "St Louis, MO"
        ],
        [
         "1",
         "1",
         "1",
         "Allison, Master. Hudson Trevor",
         "male",
         "0.92",
         "1",
         "2",
         "113781",
         "151.55",
         "C22 C26",
         "S",
         "11",
         null,
         "Montreal, PQ / Chesterville, ON"
        ],
        [
         "2",
         "1",
         "0",
         "Allison, Miss. Helen Loraine",
         "female",
         "2.0",
         "1",
         "2",
         "113781",
         "151.55",
         "C22 C26",
         "S",
         null,
         null,
         "Montreal, PQ / Chesterville, ON"
        ],
        [
         "3",
         "1",
         "0",
         "Allison, Mr. Hudson Joshua Creighton",
         "male",
         "30.0",
         "1",
         "2",
         "113781",
         "151.55",
         "C22 C26",
         "S",
         null,
         "135.0",
         "Montreal, PQ / Chesterville, ON"
        ],
        [
         "4",
         "1",
         "0",
         "Allison, Mrs. Hudson J C (Bessie Waldo Daniels)",
         "female",
         "25.0",
         "1",
         "2",
         "113781",
         "151.55",
         "C22 C26",
         "S",
         null,
         null,
         "Montreal, PQ / Chesterville, ON"
        ]
       ],
       "shape": {
        "columns": 14,
        "rows": 5
       }
      },
      "text/html": [
       "<div>\n",
       "<style scoped>\n",
       "    .dataframe tbody tr th:only-of-type {\n",
       "        vertical-align: middle;\n",
       "    }\n",
       "\n",
       "    .dataframe tbody tr th {\n",
       "        vertical-align: top;\n",
       "    }\n",
       "\n",
       "    .dataframe thead th {\n",
       "        text-align: right;\n",
       "    }\n",
       "</style>\n",
       "<table border=\"1\" class=\"dataframe\">\n",
       "  <thead>\n",
       "    <tr style=\"text-align: right;\">\n",
       "      <th></th>\n",
       "      <th>pclass</th>\n",
       "      <th>survived</th>\n",
       "      <th>name</th>\n",
       "      <th>sex</th>\n",
       "      <th>age</th>\n",
       "      <th>sibsp</th>\n",
       "      <th>parch</th>\n",
       "      <th>ticket</th>\n",
       "      <th>fare</th>\n",
       "      <th>cabin</th>\n",
       "      <th>embarked</th>\n",
       "      <th>boat</th>\n",
       "      <th>body</th>\n",
       "      <th>home.dest</th>\n",
       "    </tr>\n",
       "  </thead>\n",
       "  <tbody>\n",
       "    <tr>\n",
       "      <th>0</th>\n",
       "      <td>1</td>\n",
       "      <td>1</td>\n",
       "      <td>Allen, Miss. Elisabeth Walton</td>\n",
       "      <td>female</td>\n",
       "      <td>29.00</td>\n",
       "      <td>0</td>\n",
       "      <td>0</td>\n",
       "      <td>24160</td>\n",
       "      <td>211.3375</td>\n",
       "      <td>B5</td>\n",
       "      <td>S</td>\n",
       "      <td>2</td>\n",
       "      <td>NaN</td>\n",
       "      <td>St Louis, MO</td>\n",
       "    </tr>\n",
       "    <tr>\n",
       "      <th>1</th>\n",
       "      <td>1</td>\n",
       "      <td>1</td>\n",
       "      <td>Allison, Master. Hudson Trevor</td>\n",
       "      <td>male</td>\n",
       "      <td>0.92</td>\n",
       "      <td>1</td>\n",
       "      <td>2</td>\n",
       "      <td>113781</td>\n",
       "      <td>151.5500</td>\n",
       "      <td>C22 C26</td>\n",
       "      <td>S</td>\n",
       "      <td>11</td>\n",
       "      <td>NaN</td>\n",
       "      <td>Montreal, PQ / Chesterville, ON</td>\n",
       "    </tr>\n",
       "    <tr>\n",
       "      <th>2</th>\n",
       "      <td>1</td>\n",
       "      <td>0</td>\n",
       "      <td>Allison, Miss. Helen Loraine</td>\n",
       "      <td>female</td>\n",
       "      <td>2.00</td>\n",
       "      <td>1</td>\n",
       "      <td>2</td>\n",
       "      <td>113781</td>\n",
       "      <td>151.5500</td>\n",
       "      <td>C22 C26</td>\n",
       "      <td>S</td>\n",
       "      <td>NaN</td>\n",
       "      <td>NaN</td>\n",
       "      <td>Montreal, PQ / Chesterville, ON</td>\n",
       "    </tr>\n",
       "    <tr>\n",
       "      <th>3</th>\n",
       "      <td>1</td>\n",
       "      <td>0</td>\n",
       "      <td>Allison, Mr. Hudson Joshua Creighton</td>\n",
       "      <td>male</td>\n",
       "      <td>30.00</td>\n",
       "      <td>1</td>\n",
       "      <td>2</td>\n",
       "      <td>113781</td>\n",
       "      <td>151.5500</td>\n",
       "      <td>C22 C26</td>\n",
       "      <td>S</td>\n",
       "      <td>NaN</td>\n",
       "      <td>135.0</td>\n",
       "      <td>Montreal, PQ / Chesterville, ON</td>\n",
       "    </tr>\n",
       "    <tr>\n",
       "      <th>4</th>\n",
       "      <td>1</td>\n",
       "      <td>0</td>\n",
       "      <td>Allison, Mrs. Hudson J C (Bessie Waldo Daniels)</td>\n",
       "      <td>female</td>\n",
       "      <td>25.00</td>\n",
       "      <td>1</td>\n",
       "      <td>2</td>\n",
       "      <td>113781</td>\n",
       "      <td>151.5500</td>\n",
       "      <td>C22 C26</td>\n",
       "      <td>S</td>\n",
       "      <td>NaN</td>\n",
       "      <td>NaN</td>\n",
       "      <td>Montreal, PQ / Chesterville, ON</td>\n",
       "    </tr>\n",
       "  </tbody>\n",
       "</table>\n",
       "</div>"
      ],
      "text/plain": [
       "   pclass  survived                                             name     sex  \\\n",
       "0       1         1                    Allen, Miss. Elisabeth Walton  female   \n",
       "1       1         1                   Allison, Master. Hudson Trevor    male   \n",
       "2       1         0                     Allison, Miss. Helen Loraine  female   \n",
       "3       1         0             Allison, Mr. Hudson Joshua Creighton    male   \n",
       "4       1         0  Allison, Mrs. Hudson J C (Bessie Waldo Daniels)  female   \n",
       "\n",
       "     age  sibsp  parch  ticket      fare    cabin embarked boat   body  \\\n",
       "0  29.00      0      0   24160  211.3375       B5        S    2    NaN   \n",
       "1   0.92      1      2  113781  151.5500  C22 C26        S   11    NaN   \n",
       "2   2.00      1      2  113781  151.5500  C22 C26        S  NaN    NaN   \n",
       "3  30.00      1      2  113781  151.5500  C22 C26        S  NaN  135.0   \n",
       "4  25.00      1      2  113781  151.5500  C22 C26        S  NaN    NaN   \n",
       "\n",
       "                         home.dest  \n",
       "0                     St Louis, MO  \n",
       "1  Montreal, PQ / Chesterville, ON  \n",
       "2  Montreal, PQ / Chesterville, ON  \n",
       "3  Montreal, PQ / Chesterville, ON  \n",
       "4  Montreal, PQ / Chesterville, ON  "
      ]
     },
     "execution_count": 3,
     "metadata": {},
     "output_type": "execute_result"
    }
   ],
   "source": [
    "df.head()  # visualiza as 5 primeiras linhas"
   ]
  },
  {
   "cell_type": "code",
   "execution_count": 4,
   "id": "4e62e1ff",
   "metadata": {},
   "outputs": [
    {
     "data": {
      "text/plain": [
       "(1309, 14)"
      ]
     },
     "execution_count": 4,
     "metadata": {},
     "output_type": "execute_result"
    }
   ],
   "source": [
    "df.shape     # deve retornar numero de linhas x colunas   "
   ]
  },
  {
   "cell_type": "code",
   "execution_count": 5,
   "id": "08b97824",
   "metadata": {},
   "outputs": [
    {
     "data": {
      "text/plain": [
       "Index(['pclass', 'survived', 'name', 'sex', 'age', 'sibsp', 'parch', 'ticket',\n",
       "       'fare', 'cabin', 'embarked', 'boat', 'body', 'home.dest'],\n",
       "      dtype='object')"
      ]
     },
     "execution_count": 5,
     "metadata": {},
     "output_type": "execute_result"
    }
   ],
   "source": [
    "df.columns     # lista os nomes das colunas"
   ]
  },
  {
   "cell_type": "code",
   "execution_count": 6,
   "id": "b2af5449",
   "metadata": {},
   "outputs": [
    {
     "name": "stdout",
     "output_type": "stream",
     "text": [
      "<class 'pandas.core.frame.DataFrame'>\n",
      "RangeIndex: 1309 entries, 0 to 1308\n",
      "Data columns (total 14 columns):\n",
      " #   Column     Non-Null Count  Dtype  \n",
      "---  ------     --------------  -----  \n",
      " 0   pclass     1309 non-null   int64  \n",
      " 1   survived   1309 non-null   int64  \n",
      " 2   name       1309 non-null   object \n",
      " 3   sex        1309 non-null   object \n",
      " 4   age        1046 non-null   float64\n",
      " 5   sibsp      1309 non-null   int64  \n",
      " 6   parch      1309 non-null   int64  \n",
      " 7   ticket     1309 non-null   object \n",
      " 8   fare       1308 non-null   float64\n",
      " 9   cabin      295 non-null    object \n",
      " 10  embarked   1307 non-null   object \n",
      " 11  boat       486 non-null    object \n",
      " 12  body       121 non-null    float64\n",
      " 13  home.dest  745 non-null    object \n",
      "dtypes: float64(3), int64(4), object(7)\n",
      "memory usage: 143.3+ KB\n"
     ]
    }
   ],
   "source": [
    "df.info()   # mostra tipo de dados e contagem não-nula por coluna"
   ]
  },
  {
   "cell_type": "code",
   "execution_count": 7,
   "id": "0c70e1cc",
   "metadata": {},
   "outputs": [
    {
     "data": {
      "application/vnd.microsoft.datawrangler.viewer.v0+json": {
       "columns": [
        {
         "name": "index",
         "rawType": "object",
         "type": "string"
        },
        {
         "name": "pclass",
         "rawType": "float64",
         "type": "float"
        },
        {
         "name": "survived",
         "rawType": "float64",
         "type": "float"
        },
        {
         "name": "age",
         "rawType": "float64",
         "type": "float"
        },
        {
         "name": "sibsp",
         "rawType": "float64",
         "type": "float"
        },
        {
         "name": "parch",
         "rawType": "float64",
         "type": "float"
        },
        {
         "name": "fare",
         "rawType": "float64",
         "type": "float"
        },
        {
         "name": "body",
         "rawType": "float64",
         "type": "float"
        }
       ],
       "ref": "2c46202c-5dc2-4753-9452-f989af56efb1",
       "rows": [
        [
         "count",
         "1309.0",
         "1309.0",
         "1046.0",
         "1309.0",
         "1309.0",
         "1308.0",
         "121.0"
        ],
        [
         "mean",
         "2.294881588999236",
         "0.3819709702062643",
         "29.881137667304014",
         "0.4988540870893812",
         "0.3850267379679144",
         "33.29547928134557",
         "160.8099173553719"
        ],
        [
         "std",
         "0.8378360189701274",
         "0.4860551708664827",
         "14.413493211271321",
         "1.041658390596102",
         "0.8655602753495147",
         "51.75866823917411",
         "97.6969219960031"
        ],
        [
         "min",
         "1.0",
         "0.0",
         "0.17",
         "0.0",
         "0.0",
         "0.0",
         "1.0"
        ],
        [
         "25%",
         "2.0",
         "0.0",
         "21.0",
         "0.0",
         "0.0",
         "7.8958",
         "72.0"
        ],
        [
         "50%",
         "3.0",
         "0.0",
         "28.0",
         "0.0",
         "0.0",
         "14.4542",
         "155.0"
        ],
        [
         "75%",
         "3.0",
         "1.0",
         "39.0",
         "1.0",
         "0.0",
         "31.275",
         "256.0"
        ],
        [
         "max",
         "3.0",
         "1.0",
         "80.0",
         "8.0",
         "9.0",
         "512.3292",
         "328.0"
        ]
       ],
       "shape": {
        "columns": 7,
        "rows": 8
       }
      },
      "text/html": [
       "<div>\n",
       "<style scoped>\n",
       "    .dataframe tbody tr th:only-of-type {\n",
       "        vertical-align: middle;\n",
       "    }\n",
       "\n",
       "    .dataframe tbody tr th {\n",
       "        vertical-align: top;\n",
       "    }\n",
       "\n",
       "    .dataframe thead th {\n",
       "        text-align: right;\n",
       "    }\n",
       "</style>\n",
       "<table border=\"1\" class=\"dataframe\">\n",
       "  <thead>\n",
       "    <tr style=\"text-align: right;\">\n",
       "      <th></th>\n",
       "      <th>pclass</th>\n",
       "      <th>survived</th>\n",
       "      <th>age</th>\n",
       "      <th>sibsp</th>\n",
       "      <th>parch</th>\n",
       "      <th>fare</th>\n",
       "      <th>body</th>\n",
       "    </tr>\n",
       "  </thead>\n",
       "  <tbody>\n",
       "    <tr>\n",
       "      <th>count</th>\n",
       "      <td>1309.000000</td>\n",
       "      <td>1309.000000</td>\n",
       "      <td>1046.000000</td>\n",
       "      <td>1309.000000</td>\n",
       "      <td>1309.000000</td>\n",
       "      <td>1308.000000</td>\n",
       "      <td>121.000000</td>\n",
       "    </tr>\n",
       "    <tr>\n",
       "      <th>mean</th>\n",
       "      <td>2.294882</td>\n",
       "      <td>0.381971</td>\n",
       "      <td>29.881138</td>\n",
       "      <td>0.498854</td>\n",
       "      <td>0.385027</td>\n",
       "      <td>33.295479</td>\n",
       "      <td>160.809917</td>\n",
       "    </tr>\n",
       "    <tr>\n",
       "      <th>std</th>\n",
       "      <td>0.837836</td>\n",
       "      <td>0.486055</td>\n",
       "      <td>14.413493</td>\n",
       "      <td>1.041658</td>\n",
       "      <td>0.865560</td>\n",
       "      <td>51.758668</td>\n",
       "      <td>97.696922</td>\n",
       "    </tr>\n",
       "    <tr>\n",
       "      <th>min</th>\n",
       "      <td>1.000000</td>\n",
       "      <td>0.000000</td>\n",
       "      <td>0.170000</td>\n",
       "      <td>0.000000</td>\n",
       "      <td>0.000000</td>\n",
       "      <td>0.000000</td>\n",
       "      <td>1.000000</td>\n",
       "    </tr>\n",
       "    <tr>\n",
       "      <th>25%</th>\n",
       "      <td>2.000000</td>\n",
       "      <td>0.000000</td>\n",
       "      <td>21.000000</td>\n",
       "      <td>0.000000</td>\n",
       "      <td>0.000000</td>\n",
       "      <td>7.895800</td>\n",
       "      <td>72.000000</td>\n",
       "    </tr>\n",
       "    <tr>\n",
       "      <th>50%</th>\n",
       "      <td>3.000000</td>\n",
       "      <td>0.000000</td>\n",
       "      <td>28.000000</td>\n",
       "      <td>0.000000</td>\n",
       "      <td>0.000000</td>\n",
       "      <td>14.454200</td>\n",
       "      <td>155.000000</td>\n",
       "    </tr>\n",
       "    <tr>\n",
       "      <th>75%</th>\n",
       "      <td>3.000000</td>\n",
       "      <td>1.000000</td>\n",
       "      <td>39.000000</td>\n",
       "      <td>1.000000</td>\n",
       "      <td>0.000000</td>\n",
       "      <td>31.275000</td>\n",
       "      <td>256.000000</td>\n",
       "    </tr>\n",
       "    <tr>\n",
       "      <th>max</th>\n",
       "      <td>3.000000</td>\n",
       "      <td>1.000000</td>\n",
       "      <td>80.000000</td>\n",
       "      <td>8.000000</td>\n",
       "      <td>9.000000</td>\n",
       "      <td>512.329200</td>\n",
       "      <td>328.000000</td>\n",
       "    </tr>\n",
       "  </tbody>\n",
       "</table>\n",
       "</div>"
      ],
      "text/plain": [
       "            pclass     survived          age        sibsp        parch  \\\n",
       "count  1309.000000  1309.000000  1046.000000  1309.000000  1309.000000   \n",
       "mean      2.294882     0.381971    29.881138     0.498854     0.385027   \n",
       "std       0.837836     0.486055    14.413493     1.041658     0.865560   \n",
       "min       1.000000     0.000000     0.170000     0.000000     0.000000   \n",
       "25%       2.000000     0.000000    21.000000     0.000000     0.000000   \n",
       "50%       3.000000     0.000000    28.000000     0.000000     0.000000   \n",
       "75%       3.000000     1.000000    39.000000     1.000000     0.000000   \n",
       "max       3.000000     1.000000    80.000000     8.000000     9.000000   \n",
       "\n",
       "              fare        body  \n",
       "count  1308.000000  121.000000  \n",
       "mean     33.295479  160.809917  \n",
       "std      51.758668   97.696922  \n",
       "min       0.000000    1.000000  \n",
       "25%       7.895800   72.000000  \n",
       "50%      14.454200  155.000000  \n",
       "75%      31.275000  256.000000  \n",
       "max     512.329200  328.000000  "
      ]
     },
     "execution_count": 7,
     "metadata": {},
     "output_type": "execute_result"
    }
   ],
   "source": [
    "df.describe()  # estatísticas descritivas para colunas numéricas"
   ]
  },
  {
   "cell_type": "markdown",
   "id": "1362cb5b",
   "metadata": {},
   "source": [
    "Imputação de Dados Faltantes\n",
    "# =================================================="
   ]
  },
  {
   "cell_type": "code",
   "execution_count": 8,
   "id": "7c909595",
   "metadata": {},
   "outputs": [],
   "source": [
    "import pandas as pd\n",
    "import matplotlib.pyplot as plt\n",
    "import seaborn as sns"
   ]
  },
  {
   "cell_type": "code",
   "execution_count": 9,
   "id": "1ccc8b75",
   "metadata": {},
   "outputs": [
    {
     "data": {
      "application/vnd.microsoft.datawrangler.viewer.v0+json": {
       "columns": [
        {
         "name": "index",
         "rawType": "object",
         "type": "string"
        },
        {
         "name": "0",
         "rawType": "int64",
         "type": "integer"
        }
       ],
       "ref": "87b86c72-f5ef-4bc3-8859-42fd46e88132",
       "rows": [
        [
         "pclass",
         "0"
        ],
        [
         "survived",
         "0"
        ],
        [
         "name",
         "0"
        ],
        [
         "sex",
         "0"
        ],
        [
         "age",
         "263"
        ],
        [
         "sibsp",
         "0"
        ],
        [
         "parch",
         "0"
        ],
        [
         "ticket",
         "0"
        ],
        [
         "fare",
         "1"
        ],
        [
         "cabin",
         "1014"
        ],
        [
         "embarked",
         "2"
        ],
        [
         "boat",
         "823"
        ],
        [
         "body",
         "1188"
        ],
        [
         "home.dest",
         "564"
        ]
       ],
       "shape": {
        "columns": 1,
        "rows": 14
       }
      },
      "text/plain": [
       "pclass          0\n",
       "survived        0\n",
       "name            0\n",
       "sex             0\n",
       "age           263\n",
       "sibsp           0\n",
       "parch           0\n",
       "ticket          0\n",
       "fare            1\n",
       "cabin        1014\n",
       "embarked        2\n",
       "boat          823\n",
       "body         1188\n",
       "home.dest     564\n",
       "dtype: int64"
      ]
     },
     "execution_count": 9,
     "metadata": {},
     "output_type": "execute_result"
    }
   ],
   "source": [
    "df.isnull().sum() # Verifica valores ausentes"
   ]
  },
  {
   "cell_type": "code",
   "execution_count": 10,
   "id": "e0c0d08d",
   "metadata": {},
   "outputs": [],
   "source": [
    "from sklearn.impute import KNNImputer\n",
    "\n",
    "cols_to_impute = ['age', 'fare']\n",
    "df_impute = df[cols_to_impute].copy()\n",
    "\n",
    "imputer = KNNImputer(n_neighbors=5)\n",
    "df_imputed_array = imputer.fit_transform(df_impute)\n",
    "df[cols_to_impute] = df_imputed_array"
   ]
  },
  {
   "cell_type": "code",
   "execution_count": 11,
   "id": "653c3e7a",
   "metadata": {},
   "outputs": [],
   "source": [
    "df.drop('name', axis=1, inplace=True)"
   ]
  },
  {
   "cell_type": "code",
   "execution_count": 12,
   "id": "7b304f08",
   "metadata": {},
   "outputs": [],
   "source": [
    "# Para cada coluna categórica\n",
    "cat_cols = ['embarked', 'cabin', 'boat', 'home.dest', 'body']\n",
    "\n",
    "for col in cat_cols:\n",
    "    moda = df[col].mode()[0]\n",
    "    df[col].fillna(moda, inplace=True)\n",
    "\n",
    "\n",
    "df['cabin'].fillna('Unknown', inplace=True)\n",
    "df['boat'].fillna('None', inplace=True)\n",
    "df['home.dest'].fillna('Unknown', inplace=True)\n",
    "df['body'].fillna('Unknown', inplace=True)\n",
    "\n",
    "from sklearn.impute import SimpleImputer\n",
    "\n",
    "cat_imputer = SimpleImputer(strategy='most_frequent')\n",
    "df[['embarked']] = cat_imputer.fit_transform(df[['embarked']])"
   ]
  },
  {
   "cell_type": "code",
   "execution_count": 13,
   "id": "6a18f504",
   "metadata": {},
   "outputs": [
    {
     "data": {
      "application/vnd.microsoft.datawrangler.viewer.v0+json": {
       "columns": [
        {
         "name": "index",
         "rawType": "object",
         "type": "string"
        },
        {
         "name": "0",
         "rawType": "int64",
         "type": "integer"
        }
       ],
       "ref": "66cd6cbd-b488-4bd2-8a16-9af9db0b62f5",
       "rows": [
        [
         "pclass",
         "0"
        ],
        [
         "survived",
         "0"
        ],
        [
         "sex",
         "0"
        ],
        [
         "age",
         "0"
        ],
        [
         "sibsp",
         "0"
        ],
        [
         "parch",
         "0"
        ],
        [
         "ticket",
         "0"
        ],
        [
         "fare",
         "0"
        ],
        [
         "cabin",
         "0"
        ],
        [
         "embarked",
         "0"
        ],
        [
         "boat",
         "0"
        ],
        [
         "body",
         "0"
        ],
        [
         "home.dest",
         "0"
        ]
       ],
       "shape": {
        "columns": 1,
        "rows": 13
       }
      },
      "text/plain": [
       "pclass       0\n",
       "survived     0\n",
       "sex          0\n",
       "age          0\n",
       "sibsp        0\n",
       "parch        0\n",
       "ticket       0\n",
       "fare         0\n",
       "cabin        0\n",
       "embarked     0\n",
       "boat         0\n",
       "body         0\n",
       "home.dest    0\n",
       "dtype: int64"
      ]
     },
     "execution_count": 13,
     "metadata": {},
     "output_type": "execute_result"
    }
   ],
   "source": [
    "df.isnull().sum() # Verifica valores ausentes apos a imputação"
   ]
  },
  {
   "cell_type": "markdown",
   "id": "28e28f89",
   "metadata": {},
   "source": [
    "Análise Univariada e relações simples\n",
    "# =================================================="
   ]
  },
  {
   "cell_type": "code",
   "execution_count": 14,
   "id": "64e92327",
   "metadata": {},
   "outputs": [
    {
     "data": {
      "application/vnd.microsoft.datawrangler.viewer.v0+json": {
       "columns": [
        {
         "name": "survived",
         "rawType": "int64",
         "type": "integer"
        },
        {
         "name": "count",
         "rawType": "int64",
         "type": "integer"
        }
       ],
       "ref": "44744e87-6988-4bbf-88f9-ffe1156d2991",
       "rows": [
        [
         "0",
         "809"
        ],
        [
         "1",
         "500"
        ]
       ],
       "shape": {
        "columns": 1,
        "rows": 2
       }
      },
      "text/plain": [
       "survived\n",
       "0    809\n",
       "1    500\n",
       "Name: count, dtype: int64"
      ]
     },
     "execution_count": 14,
     "metadata": {},
     "output_type": "execute_result"
    }
   ],
   "source": [
    "df['survived'].mean()\n",
    "df['survived'].value_counts()"
   ]
  },
  {
   "cell_type": "code",
   "execution_count": 15,
   "id": "f52cfe6f",
   "metadata": {},
   "outputs": [
    {
     "data": {
      "text/plain": [
       "<Axes: xlabel='sex', ylabel='survived'>"
      ]
     },
     "execution_count": 15,
     "metadata": {},
     "output_type": "execute_result"
    },
    {
     "data": {
      "image/png": "[encoded data removed]",
      "text/plain": [
       "<Figure size 640x480 with 1 Axes>"
      ]
     },
     "metadata": {},
     "output_type": "display_data"
    }
   ],
   "source": [
    "import seaborn as sns\n",
    "sns.barplot(x='sex', y='survived', data=df)"
   ]
  },
  {
   "cell_type": "code",
   "execution_count": 16,
   "id": "82866f19",
   "metadata": {},
   "outputs": [
    {
     "data": {
      "application/vnd.microsoft.datawrangler.viewer.v0+json": {
       "columns": [
        {
         "name": "pclass",
         "rawType": "int64",
         "type": "integer"
        },
        {
         "name": "survived",
         "rawType": "float64",
         "type": "float"
        }
       ],
       "ref": "b42d9869-6277-4c2c-8b4d-13fffe2df98b",
       "rows": [
        [
         "1",
         "0.6191950464396285"
        ],
        [
         "2",
         "0.4296028880866426"
        ],
        [
         "3",
         "0.2552891396332863"
        ]
       ],
       "shape": {
        "columns": 1,
        "rows": 3
       }
      },
      "text/plain": [
       "pclass\n",
       "1    0.619195\n",
       "2    0.429603\n",
       "3    0.255289\n",
       "Name: survived, dtype: float64"
      ]
     },
     "execution_count": 16,
     "metadata": {},
     "output_type": "execute_result"
    }
   ],
   "source": [
    "df.groupby('pclass')['survived'].mean() # média de sobrevivência por classe"
   ]
  },
  {
   "cell_type": "markdown",
   "id": "f2ff8732",
   "metadata": {},
   "source": [
    "Modelagem Preditiva (Machine Learning) com scikit-learn\n",
    "# =================================================="
   ]
  },
  {
   "cell_type": "code",
   "execution_count": 17,
   "id": "d6ca6371",
   "metadata": {},
   "outputs": [
    {
     "name": "stdout",
     "output_type": "stream",
     "text": [
      "<class 'pandas.core.frame.DataFrame'>\n",
      "RangeIndex: 1309 entries, 0 to 1308\n",
      "Data columns (total 13 columns):\n",
      " #   Column     Non-Null Count  Dtype  \n",
      "---  ------     --------------  -----  \n",
      " 0   pclass     1309 non-null   int64  \n",
      " 1   survived   1309 non-null   int64  \n",
      " 2   sex        1309 non-null   object \n",
      " 3   age        1309 non-null   float64\n",
      " 4   sibsp      1309 non-null   int64  \n",
      " 5   parch      1309 non-null   int64  \n",
      " 6   ticket     1309 non-null   object \n",
      " 7   fare       1309 non-null   float64\n",
      " 8   cabin      1309 non-null   object \n",
      " 9   embarked   1309 non-null   object \n",
      " 10  boat       1309 non-null   object \n",
      " 11  body       1309 non-null   float64\n",
      " 12  home.dest  1309 non-null   object \n",
      "dtypes: float64(3), int64(4), object(6)\n",
      "memory usage: 133.1+ KB\n"
     ]
    }
   ],
   "source": [
    "df.info()"
   ]
  },
  {
   "cell_type": "code",
   "execution_count": 18,
   "id": "98f2fbec",
   "metadata": {},
   "outputs": [],
   "source": [
    "import pandas as pd\n",
    "from pycaret.classification import ClassificationExperiment"
   ]
  },
  {
   "cell_type": "code",
   "execution_count": 19,
   "id": "dabc1f8b",
   "metadata": {},
   "outputs": [
    {
     "data": {
      "text/html": [
       "<style type=\"text/css\">\n",
       "#T_6c23d_row9_col1 {\n",
       "  background-color: lightgreen;\n",
       "}\n",
       "</style>\n",
       "<table id=\"T_6c23d\">\n",
       "  <thead>\n",
       "    <tr>\n",
       "      <th class=\"blank level0\" >&nbsp;</th>\n",
       "      <th id=\"T_6c23d_level0_col0\" class=\"col_heading level0 col0\" >Description</th>\n",
       "      <th id=\"T_6c23d_level0_col1\" class=\"col_heading level0 col1\" >Value</th>\n",
       "    </tr>\n",
       "  </thead>\n",
       "  <tbody>\n",
       "    <tr>\n",
       "      <th id=\"T_6c23d_level0_row0\" class=\"row_heading level0 row0\" >0</th>\n",
       "      <td id=\"T_6c23d_row0_col0\" class=\"data row0 col0\" >Session id</td>\n",
       "      <td id=\"T_6c23d_row0_col1\" class=\"data row0 col1\" >123</td>\n",
       "    </tr>\n",
       "    <tr>\n",
       "      <th id=\"T_6c23d_level0_row1\" class=\"row_heading level0 row1\" >1</th>\n",
       "      <td id=\"T_6c23d_row1_col0\" class=\"data row1 col0\" >Target</td>\n",
       "      <td id=\"T_6c23d_row1_col1\" class=\"data row1 col1\" >survived</td>\n",
       "    </tr>\n",
       "    <tr>\n",
       "      <th id=\"T_6c23d_level0_row2\" class=\"row_heading level0 row2\" >2</th>\n",
       "      <td id=\"T_6c23d_row2_col0\" class=\"data row2 col0\" >Target type</td>\n",
       "      <td id=\"T_6c23d_row2_col1\" class=\"data row2 col1\" >Binary</td>\n",
       "    </tr>\n",
       "    <tr>\n",
       "      <th id=\"T_6c23d_level0_row3\" class=\"row_heading level0 row3\" >3</th>\n",
       "      <td id=\"T_6c23d_row3_col0\" class=\"data row3 col0\" >Original data shape</td>\n",
       "      <td id=\"T_6c23d_row3_col1\" class=\"data row3 col1\" >(1309, 13)</td>\n",
       "    </tr>\n",
       "    <tr>\n",
       "      <th id=\"T_6c23d_level0_row4\" class=\"row_heading level0 row4\" >4</th>\n",
       "      <td id=\"T_6c23d_row4_col0\" class=\"data row4 col0\" >Transformed data shape</td>\n",
       "      <td id=\"T_6c23d_row4_col1\" class=\"data row4 col1\" >(1309, 39)</td>\n",
       "    </tr>\n",
       "    <tr>\n",
       "      <th id=\"T_6c23d_level0_row5\" class=\"row_heading level0 row5\" >5</th>\n",
       "      <td id=\"T_6c23d_row5_col0\" class=\"data row5 col0\" >Transformed train set shape</td>\n",
       "      <td id=\"T_6c23d_row5_col1\" class=\"data row5 col1\" >(916, 39)</td>\n",
       "    </tr>\n",
       "    <tr>\n",
       "      <th id=\"T_6c23d_level0_row6\" class=\"row_heading level0 row6\" >6</th>\n",
       "      <td id=\"T_6c23d_row6_col0\" class=\"data row6 col0\" >Transformed test set shape</td>\n",
       "      <td id=\"T_6c23d_row6_col1\" class=\"data row6 col1\" >(393, 39)</td>\n",
       "    </tr>\n",
       "    <tr>\n",
       "      <th id=\"T_6c23d_level0_row7\" class=\"row_heading level0 row7\" >7</th>\n",
       "      <td id=\"T_6c23d_row7_col0\" class=\"data row7 col0\" >Numeric features</td>\n",
       "      <td id=\"T_6c23d_row7_col1\" class=\"data row7 col1\" >6</td>\n",
       "    </tr>\n",
       "    <tr>\n",
       "      <th id=\"T_6c23d_level0_row8\" class=\"row_heading level0 row8\" >8</th>\n",
       "      <td id=\"T_6c23d_row8_col0\" class=\"data row8 col0\" >Categorical features</td>\n",
       "      <td id=\"T_6c23d_row8_col1\" class=\"data row8 col1\" >6</td>\n",
       "    </tr>\n",
       "    <tr>\n",
       "      <th id=\"T_6c23d_level0_row9\" class=\"row_heading level0 row9\" >9</th>\n",
       "      <td id=\"T_6c23d_row9_col0\" class=\"data row9 col0\" >Preprocess</td>\n",
       "      <td id=\"T_6c23d_row9_col1\" class=\"data row9 col1\" >True</td>\n",
       "    </tr>\n",
       "    <tr>\n",
       "      <th id=\"T_6c23d_level0_row10\" class=\"row_heading level0 row10\" >10</th>\n",
       "      <td id=\"T_6c23d_row10_col0\" class=\"data row10 col0\" >Imputation type</td>\n",
       "      <td id=\"T_6c23d_row10_col1\" class=\"data row10 col1\" >simple</td>\n",
       "    </tr>\n",
       "    <tr>\n",
       "      <th id=\"T_6c23d_level0_row11\" class=\"row_heading level0 row11\" >11</th>\n",
       "      <td id=\"T_6c23d_row11_col0\" class=\"data row11 col0\" >Numeric imputation</td>\n",
       "      <td id=\"T_6c23d_row11_col1\" class=\"data row11 col1\" >mean</td>\n",
       "    </tr>\n",
       "    <tr>\n",
       "      <th id=\"T_6c23d_level0_row12\" class=\"row_heading level0 row12\" >12</th>\n",
       "      <td id=\"T_6c23d_row12_col0\" class=\"data row12 col0\" >Categorical imputation</td>\n",
       "      <td id=\"T_6c23d_row12_col1\" class=\"data row12 col1\" >mode</td>\n",
       "    </tr>\n",
       "    <tr>\n",
       "      <th id=\"T_6c23d_level0_row13\" class=\"row_heading level0 row13\" >13</th>\n",
       "      <td id=\"T_6c23d_row13_col0\" class=\"data row13 col0\" >Maximum one-hot encoding</td>\n",
       "      <td id=\"T_6c23d_row13_col1\" class=\"data row13 col1\" >25</td>\n",
       "    </tr>\n",
       "    <tr>\n",
       "      <th id=\"T_6c23d_level0_row14\" class=\"row_heading level0 row14\" >14</th>\n",
       "      <td id=\"T_6c23d_row14_col0\" class=\"data row14 col0\" >Encoding method</td>\n",
       "      <td id=\"T_6c23d_row14_col1\" class=\"data row14 col1\" >None</td>\n",
       "    </tr>\n",
       "    <tr>\n",
       "      <th id=\"T_6c23d_level0_row15\" class=\"row_heading level0 row15\" >15</th>\n",
       "      <td id=\"T_6c23d_row15_col0\" class=\"data row15 col0\" >Fold Generator</td>\n",
       "      <td id=\"T_6c23d_row15_col1\" class=\"data row15 col1\" >StratifiedKFold</td>\n",
       "    </tr>\n",
       "    <tr>\n",
       "      <th id=\"T_6c23d_level0_row16\" class=\"row_heading level0 row16\" >16</th>\n",
       "      <td id=\"T_6c23d_row16_col0\" class=\"data row16 col0\" >Fold Number</td>\n",
       "      <td id=\"T_6c23d_row16_col1\" class=\"data row16 col1\" >10</td>\n",
       "    </tr>\n",
       "    <tr>\n",
       "      <th id=\"T_6c23d_level0_row17\" class=\"row_heading level0 row17\" >17</th>\n",
       "      <td id=\"T_6c23d_row17_col0\" class=\"data row17 col0\" >CPU Jobs</td>\n",
       "      <td id=\"T_6c23d_row17_col1\" class=\"data row17 col1\" >-1</td>\n",
       "    </tr>\n",
       "    <tr>\n",
       "      <th id=\"T_6c23d_level0_row18\" class=\"row_heading level0 row18\" >18</th>\n",
       "      <td id=\"T_6c23d_row18_col0\" class=\"data row18 col0\" >Use GPU</td>\n",
       "      <td id=\"T_6c23d_row18_col1\" class=\"data row18 col1\" >False</td>\n",
       "    </tr>\n",
       "    <tr>\n",
       "      <th id=\"T_6c23d_level0_row19\" class=\"row_heading level0 row19\" >19</th>\n",
       "      <td id=\"T_6c23d_row19_col0\" class=\"data row19 col0\" >Log Experiment</td>\n",
       "      <td id=\"T_6c23d_row19_col1\" class=\"data row19 col1\" >False</td>\n",
       "    </tr>\n",
       "    <tr>\n",
       "      <th id=\"T_6c23d_level0_row20\" class=\"row_heading level0 row20\" >20</th>\n",
       "      <td id=\"T_6c23d_row20_col0\" class=\"data row20 col0\" >Experiment Name</td>\n",
       "      <td id=\"T_6c23d_row20_col1\" class=\"data row20 col1\" >clf-default-name</td>\n",
       "    </tr>\n",
       "    <tr>\n",
       "      <th id=\"T_6c23d_level0_row21\" class=\"row_heading level0 row21\" >21</th>\n",
       "      <td id=\"T_6c23d_row21_col0\" class=\"data row21 col0\" >USI</td>\n",
       "      <td id=\"T_6c23d_row21_col1\" class=\"data row21 col1\" >c139</td>\n",
       "    </tr>\n",
       "  </tbody>\n",
       "</table>\n"
      ],
      "text/plain": [
       "<pandas.io.formats.style.Styler at 0x324b26f10>"
      ]
     },
     "metadata": {},
     "output_type": "display_data"
    },
    {
     "data": {
      "text/plain": [
       "<pycaret.classification.oop.ClassificationExperiment at 0x324677130>"
      ]
     },
     "execution_count": 19,
     "metadata": {},
     "output_type": "execute_result"
    }
   ],
   "source": [
    "s = ClassificationExperiment()\n",
    "s.setup(\n",
    "    data=df,\n",
    "    target=\"survived\",\n",
    "    session_id=123,\n",
    "    # normalize=True,\n",
    "    # normalize_method=\"zscore\",\n",
    "    # transformation=True,\n",
    "    # transformation_method=\"yeo-johnson\",\n",
    "    # feature_selection=True,\n",
    "    # feature_selection_threshold=0.05,\n",
    "    # remove_multicollinearity=True,\n",
    "    # multicollinearity_threshold=0.95,\n",
    ")"
   ]
  },
  {
   "cell_type": "code",
   "execution_count": 65,
   "id": "b68530d1",
   "metadata": {},
   "outputs": [
    {
     "data": {
      "text/html": [],
      "text/plain": [
       "<IPython.core.display.HTML object>"
      ]
     },
     "metadata": {},
     "output_type": "display_data"
    },
    {
     "data": {
      "text/html": [
       "<style type=\"text/css\">\n",
       "#T_79d8a th {\n",
       "  text-align: left;\n",
       "}\n",
       "#T_79d8a_row0_col0, #T_79d8a_row0_col2, #T_79d8a_row0_col3, #T_79d8a_row1_col0, #T_79d8a_row1_col1, #T_79d8a_row1_col3, #T_79d8a_row1_col4, #T_79d8a_row1_col5, #T_79d8a_row1_col6, #T_79d8a_row1_col7, #T_79d8a_row2_col0, #T_79d8a_row2_col1, #T_79d8a_row2_col2, #T_79d8a_row2_col3, #T_79d8a_row2_col4, #T_79d8a_row2_col5, #T_79d8a_row2_col6, #T_79d8a_row2_col7, #T_79d8a_row3_col0, #T_79d8a_row3_col1, #T_79d8a_row3_col2, #T_79d8a_row3_col4, #T_79d8a_row3_col5, #T_79d8a_row3_col6, #T_79d8a_row3_col7, #T_79d8a_row4_col0, #T_79d8a_row4_col1, #T_79d8a_row4_col2, #T_79d8a_row4_col3, #T_79d8a_row4_col4, #T_79d8a_row4_col5, #T_79d8a_row4_col6, #T_79d8a_row4_col7, #T_79d8a_row5_col0, #T_79d8a_row5_col1, #T_79d8a_row5_col2, #T_79d8a_row5_col3, #T_79d8a_row5_col4, #T_79d8a_row5_col5, #T_79d8a_row5_col6, #T_79d8a_row5_col7, #T_79d8a_row6_col0, #T_79d8a_row6_col1, #T_79d8a_row6_col2, #T_79d8a_row6_col3, #T_79d8a_row6_col4, #T_79d8a_row6_col5, #T_79d8a_row6_col6, #T_79d8a_row6_col7, #T_79d8a_row7_col0, #T_79d8a_row7_col1, #T_79d8a_row7_col2, #T_79d8a_row7_col3, #T_79d8a_row7_col4, #T_79d8a_row7_col5, #T_79d8a_row7_col6, #T_79d8a_row7_col7, #T_79d8a_row8_col0, #T_79d8a_row8_col1, #T_79d8a_row8_col2, #T_79d8a_row8_col3, #T_79d8a_row8_col4, #T_79d8a_row8_col5, #T_79d8a_row8_col6, #T_79d8a_row8_col7, #T_79d8a_row9_col0, #T_79d8a_row9_col1, #T_79d8a_row9_col2, #T_79d8a_row9_col3, #T_79d8a_row9_col4, #T_79d8a_row9_col5, #T_79d8a_row9_col6, #T_79d8a_row9_col7, #T_79d8a_row10_col0, #T_79d8a_row10_col1, #T_79d8a_row10_col2, #T_79d8a_row10_col3, #T_79d8a_row10_col4, #T_79d8a_row10_col5, #T_79d8a_row10_col6, #T_79d8a_row10_col7, #T_79d8a_row11_col0, #T_79d8a_row11_col1, #T_79d8a_row11_col2, #T_79d8a_row11_col3, #T_79d8a_row11_col4, #T_79d8a_row11_col5, #T_79d8a_row11_col6, #T_79d8a_row11_col7, #T_79d8a_row12_col0, #T_79d8a_row12_col1, #T_79d8a_row12_col2, #T_79d8a_row12_col3, #T_79d8a_row12_col4, #T_79d8a_row12_col5, #T_79d8a_row12_col6, #T_79d8a_row12_col7, #T_79d8a_row13_col0, #T_79d8a_row13_col1, #T_79d8a_row13_col2, #T_79d8a_row13_col3, #T_79d8a_row13_col4, #T_79d8a_row13_col5, #T_79d8a_row13_col6, #T_79d8a_row13_col7 {\n",
       "  text-align: left;\n",
       "}\n",
       "#T_79d8a_row0_col1, #T_79d8a_row0_col4, #T_79d8a_row0_col5, #T_79d8a_row0_col6, #T_79d8a_row0_col7, #T_79d8a_row1_col2, #T_79d8a_row3_col3 {\n",
       "  text-align: left;\n",
       "  background-color: yellow;\n",
       "}\n",
       "#T_79d8a_row0_col8, #T_79d8a_row1_col8, #T_79d8a_row2_col8, #T_79d8a_row3_col8, #T_79d8a_row4_col8, #T_79d8a_row5_col8, #T_79d8a_row6_col8, #T_79d8a_row8_col8, #T_79d8a_row9_col8, #T_79d8a_row10_col8, #T_79d8a_row11_col8, #T_79d8a_row12_col8, #T_79d8a_row13_col8 {\n",
       "  text-align: left;\n",
       "  background-color: lightgrey;\n",
       "}\n",
       "#T_79d8a_row7_col8 {\n",
       "  text-align: left;\n",
       "  background-color: yellow;\n",
       "  background-color: lightgrey;\n",
       "}\n",
       "</style>\n",
       "<table id=\"T_79d8a\">\n",
       "  <thead>\n",
       "    <tr>\n",
       "      <th class=\"blank level0\" >&nbsp;</th>\n",
       "      <th id=\"T_79d8a_level0_col0\" class=\"col_heading level0 col0\" >Model</th>\n",
       "      <th id=\"T_79d8a_level0_col1\" class=\"col_heading level0 col1\" >Accuracy</th>\n",
       "      <th id=\"T_79d8a_level0_col2\" class=\"col_heading level0 col2\" >AUC</th>\n",
       "      <th id=\"T_79d8a_level0_col3\" class=\"col_heading level0 col3\" >Recall</th>\n",
       "      <th id=\"T_79d8a_level0_col4\" class=\"col_heading level0 col4\" >Prec.</th>\n",
       "      <th id=\"T_79d8a_level0_col5\" class=\"col_heading level0 col5\" >F1</th>\n",
       "      <th id=\"T_79d8a_level0_col6\" class=\"col_heading level0 col6\" >Kappa</th>\n",
       "      <th id=\"T_79d8a_level0_col7\" class=\"col_heading level0 col7\" >MCC</th>\n",
       "      <th id=\"T_79d8a_level0_col8\" class=\"col_heading level0 col8\" >TT (Sec)</th>\n",
       "    </tr>\n",
       "  </thead>\n",
       "  <tbody>\n",
       "    <tr>\n",
       "      <th id=\"T_79d8a_level0_row0\" class=\"row_heading level0 row0\" >ridge</th>\n",
       "      <td id=\"T_79d8a_row0_col0\" class=\"data row0 col0\" >Ridge Classifier</td>\n",
       "      <td id=\"T_79d8a_row0_col1\" class=\"data row0 col1\" >0.9454</td>\n",
       "      <td id=\"T_79d8a_row0_col2\" class=\"data row0 col2\" >0.9745</td>\n",
       "      <td id=\"T_79d8a_row0_col3\" class=\"data row0 col3\" >0.8686</td>\n",
       "      <td id=\"T_79d8a_row0_col4\" class=\"data row0 col4\" >0.9875</td>\n",
       "      <td id=\"T_79d8a_row0_col5\" class=\"data row0 col5\" >0.9234</td>\n",
       "      <td id=\"T_79d8a_row0_col6\" class=\"data row0 col6\" >0.8814</td>\n",
       "      <td id=\"T_79d8a_row0_col7\" class=\"data row0 col7\" >0.8866</td>\n",
       "      <td id=\"T_79d8a_row0_col8\" class=\"data row0 col8\" >0.0140</td>\n",
       "    </tr>\n",
       "    <tr>\n",
       "      <th id=\"T_79d8a_level0_row1\" class=\"row_heading level0 row1\" >lr</th>\n",
       "      <td id=\"T_79d8a_row1_col0\" class=\"data row1 col0\" >Logistic Regression</td>\n",
       "      <td id=\"T_79d8a_row1_col1\" class=\"data row1 col1\" >0.9443</td>\n",
       "      <td id=\"T_79d8a_row1_col2\" class=\"data row1 col2\" >0.9779</td>\n",
       "      <td id=\"T_79d8a_row1_col3\" class=\"data row1 col3\" >0.8714</td>\n",
       "      <td id=\"T_79d8a_row1_col4\" class=\"data row1 col4\" >0.9812</td>\n",
       "      <td id=\"T_79d8a_row1_col5\" class=\"data row1 col5\" >0.9222</td>\n",
       "      <td id=\"T_79d8a_row1_col6\" class=\"data row1 col6\" >0.8792</td>\n",
       "      <td id=\"T_79d8a_row1_col7\" class=\"data row1 col7\" >0.8838</td>\n",
       "      <td id=\"T_79d8a_row1_col8\" class=\"data row1 col8\" >0.0180</td>\n",
       "    </tr>\n",
       "    <tr>\n",
       "      <th id=\"T_79d8a_level0_row2\" class=\"row_heading level0 row2\" >nb</th>\n",
       "      <td id=\"T_79d8a_row2_col0\" class=\"data row2 col0\" >Naive Bayes</td>\n",
       "      <td id=\"T_79d8a_row2_col1\" class=\"data row2 col1\" >0.9400</td>\n",
       "      <td id=\"T_79d8a_row2_col2\" class=\"data row2 col2\" >0.9627</td>\n",
       "      <td id=\"T_79d8a_row2_col3\" class=\"data row2 col3\" >0.8543</td>\n",
       "      <td id=\"T_79d8a_row2_col4\" class=\"data row2 col4\" >0.9874</td>\n",
       "      <td id=\"T_79d8a_row2_col5\" class=\"data row2 col5\" >0.9148</td>\n",
       "      <td id=\"T_79d8a_row2_col6\" class=\"data row2 col6\" >0.8690</td>\n",
       "      <td id=\"T_79d8a_row2_col7\" class=\"data row2 col7\" >0.8756</td>\n",
       "      <td id=\"T_79d8a_row2_col8\" class=\"data row2 col8\" >0.0120</td>\n",
       "    </tr>\n",
       "    <tr>\n",
       "      <th id=\"T_79d8a_level0_row3\" class=\"row_heading level0 row3\" >et</th>\n",
       "      <td id=\"T_79d8a_row3_col0\" class=\"data row3 col0\" >Extra Trees Classifier</td>\n",
       "      <td id=\"T_79d8a_row3_col1\" class=\"data row3 col1\" >0.9083</td>\n",
       "      <td id=\"T_79d8a_row3_col2\" class=\"data row3 col2\" >0.9593</td>\n",
       "      <td id=\"T_79d8a_row3_col3\" class=\"data row3 col3\" >0.8886</td>\n",
       "      <td id=\"T_79d8a_row3_col4\" class=\"data row3 col4\" >0.8760</td>\n",
       "      <td id=\"T_79d8a_row3_col5\" class=\"data row3 col5\" >0.8814</td>\n",
       "      <td id=\"T_79d8a_row3_col6\" class=\"data row3 col6\" >0.8067</td>\n",
       "      <td id=\"T_79d8a_row3_col7\" class=\"data row3 col7\" >0.8078</td>\n",
       "      <td id=\"T_79d8a_row3_col8\" class=\"data row3 col8\" >0.0290</td>\n",
       "    </tr>\n",
       "    <tr>\n",
       "      <th id=\"T_79d8a_level0_row4\" class=\"row_heading level0 row4\" >qda</th>\n",
       "      <td id=\"T_79d8a_row4_col0\" class=\"data row4 col0\" >Quadratic Discriminant Analysis</td>\n",
       "      <td id=\"T_79d8a_row4_col1\" class=\"data row4 col1\" >0.9006</td>\n",
       "      <td id=\"T_79d8a_row4_col2\" class=\"data row4 col2\" >0.9657</td>\n",
       "      <td id=\"T_79d8a_row4_col3\" class=\"data row4 col3\" >0.7514</td>\n",
       "      <td id=\"T_79d8a_row4_col4\" class=\"data row4 col4\" >0.9863</td>\n",
       "      <td id=\"T_79d8a_row4_col5\" class=\"data row4 col5\" >0.8478</td>\n",
       "      <td id=\"T_79d8a_row4_col6\" class=\"data row4 col6\" >0.7775</td>\n",
       "      <td id=\"T_79d8a_row4_col7\" class=\"data row4 col7\" >0.7969</td>\n",
       "      <td id=\"T_79d8a_row4_col8\" class=\"data row4 col8\" >0.0130</td>\n",
       "    </tr>\n",
       "    <tr>\n",
       "      <th id=\"T_79d8a_level0_row5\" class=\"row_heading level0 row5\" >rf</th>\n",
       "      <td id=\"T_79d8a_row5_col0\" class=\"data row5 col0\" >Random Forest Classifier</td>\n",
       "      <td id=\"T_79d8a_row5_col1\" class=\"data row5 col1\" >0.8996</td>\n",
       "      <td id=\"T_79d8a_row5_col2\" class=\"data row5 col2\" >0.9491</td>\n",
       "      <td id=\"T_79d8a_row5_col3\" class=\"data row5 col3\" >0.8543</td>\n",
       "      <td id=\"T_79d8a_row5_col4\" class=\"data row5 col4\" >0.8812</td>\n",
       "      <td id=\"T_79d8a_row5_col5\" class=\"data row5 col5\" >0.8663</td>\n",
       "      <td id=\"T_79d8a_row5_col6\" class=\"data row5 col6\" >0.7860</td>\n",
       "      <td id=\"T_79d8a_row5_col7\" class=\"data row5 col7\" >0.7876</td>\n",
       "      <td id=\"T_79d8a_row5_col8\" class=\"data row5 col8\" >0.0270</td>\n",
       "    </tr>\n",
       "    <tr>\n",
       "      <th id=\"T_79d8a_level0_row6\" class=\"row_heading level0 row6\" >lda</th>\n",
       "      <td id=\"T_79d8a_row6_col0\" class=\"data row6 col0\" >Linear Discriminant Analysis</td>\n",
       "      <td id=\"T_79d8a_row6_col1\" class=\"data row6 col1\" >0.8788</td>\n",
       "      <td id=\"T_79d8a_row6_col2\" class=\"data row6 col2\" >0.9515</td>\n",
       "      <td id=\"T_79d8a_row6_col3\" class=\"data row6 col3\" >0.8114</td>\n",
       "      <td id=\"T_79d8a_row6_col4\" class=\"data row6 col4\" >0.8647</td>\n",
       "      <td id=\"T_79d8a_row6_col5\" class=\"data row6 col5\" >0.8356</td>\n",
       "      <td id=\"T_79d8a_row6_col6\" class=\"data row6 col6\" >0.7399</td>\n",
       "      <td id=\"T_79d8a_row6_col7\" class=\"data row6 col7\" >0.7424</td>\n",
       "      <td id=\"T_79d8a_row6_col8\" class=\"data row6 col8\" >0.0130</td>\n",
       "    </tr>\n",
       "    <tr>\n",
       "      <th id=\"T_79d8a_level0_row7\" class=\"row_heading level0 row7\" >dt</th>\n",
       "      <td id=\"T_79d8a_row7_col0\" class=\"data row7 col0\" >Decision Tree Classifier</td>\n",
       "      <td id=\"T_79d8a_row7_col1\" class=\"data row7 col1\" >0.8734</td>\n",
       "      <td id=\"T_79d8a_row7_col2\" class=\"data row7 col2\" >0.8583</td>\n",
       "      <td id=\"T_79d8a_row7_col3\" class=\"data row7 col3\" >0.7943</td>\n",
       "      <td id=\"T_79d8a_row7_col4\" class=\"data row7 col4\" >0.8660</td>\n",
       "      <td id=\"T_79d8a_row7_col5\" class=\"data row7 col5\" >0.8270</td>\n",
       "      <td id=\"T_79d8a_row7_col6\" class=\"data row7 col6\" >0.7276</td>\n",
       "      <td id=\"T_79d8a_row7_col7\" class=\"data row7 col7\" >0.7308</td>\n",
       "      <td id=\"T_79d8a_row7_col8\" class=\"data row7 col8\" >0.0110</td>\n",
       "    </tr>\n",
       "    <tr>\n",
       "      <th id=\"T_79d8a_level0_row8\" class=\"row_heading level0 row8\" >gbc</th>\n",
       "      <td id=\"T_79d8a_row8_col0\" class=\"data row8 col0\" >Gradient Boosting Classifier</td>\n",
       "      <td id=\"T_79d8a_row8_col1\" class=\"data row8 col1\" >0.8635</td>\n",
       "      <td id=\"T_79d8a_row8_col2\" class=\"data row8 col2\" >0.9444</td>\n",
       "      <td id=\"T_79d8a_row8_col3\" class=\"data row8 col3\" >0.7771</td>\n",
       "      <td id=\"T_79d8a_row8_col4\" class=\"data row8 col4\" >0.8532</td>\n",
       "      <td id=\"T_79d8a_row8_col5\" class=\"data row8 col5\" >0.8123</td>\n",
       "      <td id=\"T_79d8a_row8_col6\" class=\"data row8 col6\" >0.7056</td>\n",
       "      <td id=\"T_79d8a_row8_col7\" class=\"data row8 col7\" >0.7085</td>\n",
       "      <td id=\"T_79d8a_row8_col8\" class=\"data row8 col8\" >0.0270</td>\n",
       "    </tr>\n",
       "    <tr>\n",
       "      <th id=\"T_79d8a_level0_row9\" class=\"row_heading level0 row9\" >svm</th>\n",
       "      <td id=\"T_79d8a_row9_col0\" class=\"data row9 col0\" >SVM - Linear Kernel</td>\n",
       "      <td id=\"T_79d8a_row9_col1\" class=\"data row9 col1\" >0.8514</td>\n",
       "      <td id=\"T_79d8a_row9_col2\" class=\"data row9 col2\" >0.9423</td>\n",
       "      <td id=\"T_79d8a_row9_col3\" class=\"data row9 col3\" >0.7800</td>\n",
       "      <td id=\"T_79d8a_row9_col4\" class=\"data row9 col4\" >0.8550</td>\n",
       "      <td id=\"T_79d8a_row9_col5\" class=\"data row9 col5\" >0.7809</td>\n",
       "      <td id=\"T_79d8a_row9_col6\" class=\"data row9 col6\" >0.6755</td>\n",
       "      <td id=\"T_79d8a_row9_col7\" class=\"data row9 col7\" >0.7010</td>\n",
       "      <td id=\"T_79d8a_row9_col8\" class=\"data row9 col8\" >0.0150</td>\n",
       "    </tr>\n",
       "    <tr>\n",
       "      <th id=\"T_79d8a_level0_row10\" class=\"row_heading level0 row10\" >lightgbm</th>\n",
       "      <td id=\"T_79d8a_row10_col0\" class=\"data row10 col0\" >Light Gradient Boosting Machine</td>\n",
       "      <td id=\"T_79d8a_row10_col1\" class=\"data row10 col1\" >0.8460</td>\n",
       "      <td id=\"T_79d8a_row10_col2\" class=\"data row10 col2\" >0.9179</td>\n",
       "      <td id=\"T_79d8a_row10_col3\" class=\"data row10 col3\" >0.8143</td>\n",
       "      <td id=\"T_79d8a_row10_col4\" class=\"data row10 col4\" >0.7940</td>\n",
       "      <td id=\"T_79d8a_row10_col5\" class=\"data row10 col5\" >0.8016</td>\n",
       "      <td id=\"T_79d8a_row10_col6\" class=\"data row10 col6\" >0.6761</td>\n",
       "      <td id=\"T_79d8a_row10_col7\" class=\"data row10 col7\" >0.6790</td>\n",
       "      <td id=\"T_79d8a_row10_col8\" class=\"data row10 col8\" >0.3150</td>\n",
       "    </tr>\n",
       "    <tr>\n",
       "      <th id=\"T_79d8a_level0_row11\" class=\"row_heading level0 row11\" >ada</th>\n",
       "      <td id=\"T_79d8a_row11_col0\" class=\"data row11 col0\" >Ada Boost Classifier</td>\n",
       "      <td id=\"T_79d8a_row11_col1\" class=\"data row11 col1\" >0.8274</td>\n",
       "      <td id=\"T_79d8a_row11_col2\" class=\"data row11 col2\" >0.8818</td>\n",
       "      <td id=\"T_79d8a_row11_col3\" class=\"data row11 col3\" >0.8371</td>\n",
       "      <td id=\"T_79d8a_row11_col4\" class=\"data row11 col4\" >0.7485</td>\n",
       "      <td id=\"T_79d8a_row11_col5\" class=\"data row11 col5\" >0.7882</td>\n",
       "      <td id=\"T_79d8a_row11_col6\" class=\"data row11 col6\" >0.6438</td>\n",
       "      <td id=\"T_79d8a_row11_col7\" class=\"data row11 col7\" >0.6492</td>\n",
       "      <td id=\"T_79d8a_row11_col8\" class=\"data row11 col8\" >0.0200</td>\n",
       "    </tr>\n",
       "    <tr>\n",
       "      <th id=\"T_79d8a_level0_row12\" class=\"row_heading level0 row12\" >knn</th>\n",
       "      <td id=\"T_79d8a_row12_col0\" class=\"data row12 col0\" >K Neighbors Classifier</td>\n",
       "      <td id=\"T_79d8a_row12_col1\" class=\"data row12 col1\" >0.7488</td>\n",
       "      <td id=\"T_79d8a_row12_col2\" class=\"data row12 col2\" >0.8064</td>\n",
       "      <td id=\"T_79d8a_row12_col3\" class=\"data row12 col3\" >0.5886</td>\n",
       "      <td id=\"T_79d8a_row12_col4\" class=\"data row12 col4\" >0.7138</td>\n",
       "      <td id=\"T_79d8a_row12_col5\" class=\"data row12 col5\" >0.6400</td>\n",
       "      <td id=\"T_79d8a_row12_col6\" class=\"data row12 col6\" >0.4505</td>\n",
       "      <td id=\"T_79d8a_row12_col7\" class=\"data row12 col7\" >0.4594</td>\n",
       "      <td id=\"T_79d8a_row12_col8\" class=\"data row12 col8\" >0.0130</td>\n",
       "    </tr>\n",
       "    <tr>\n",
       "      <th id=\"T_79d8a_level0_row13\" class=\"row_heading level0 row13\" >dummy</th>\n",
       "      <td id=\"T_79d8a_row13_col0\" class=\"data row13 col0\" >Dummy Classifier</td>\n",
       "      <td id=\"T_79d8a_row13_col1\" class=\"data row13 col1\" >0.6179</td>\n",
       "      <td id=\"T_79d8a_row13_col2\" class=\"data row13 col2\" >0.5000</td>\n",
       "      <td id=\"T_79d8a_row13_col3\" class=\"data row13 col3\" >0.0000</td>\n",
       "      <td id=\"T_79d8a_row13_col4\" class=\"data row13 col4\" >0.0000</td>\n",
       "      <td id=\"T_79d8a_row13_col5\" class=\"data row13 col5\" >0.0000</td>\n",
       "      <td id=\"T_79d8a_row13_col6\" class=\"data row13 col6\" >0.0000</td>\n",
       "      <td id=\"T_79d8a_row13_col7\" class=\"data row13 col7\" >0.0000</td>\n",
       "      <td id=\"T_79d8a_row13_col8\" class=\"data row13 col8\" >0.0180</td>\n",
       "    </tr>\n",
       "  </tbody>\n",
       "</table>\n"
      ],
      "text/plain": [
       "<pandas.io.formats.style.Styler at 0x3276c5910>"
      ]
     },
     "metadata": {},
     "output_type": "display_data"
    },
    {
     "data": {
      "text/html": [],
      "text/plain": [
       "<IPython.core.display.HTML object>"
      ]
     },
     "metadata": {},
     "output_type": "display_data"
    },
    {
     "data": {
      "text/html": [
       "<style>#sk-container-id-2 {\n",
       "  /* Definition of color scheme common for light and dark mode */\n",
       "  --sklearn-color-text: black;\n",
       "  --sklearn-color-line: gray;\n",
       "  /* Definition of color scheme for unfitted estimators */\n",
       "  --sklearn-color-unfitted-level-0: #fff5e6;\n",
       "  --sklearn-color-unfitted-level-1: #f6e4d2;\n",
       "  --sklearn-color-unfitted-level-2: #ffe0b3;\n",
       "  --sklearn-color-unfitted-level-3: chocolate;\n",
       "  /* Definition of color scheme for fitted estimators */\n",
       "  --sklearn-color-fitted-level-0: #f0f8ff;\n",
       "  --sklearn-color-fitted-level-1: #d4ebff;\n",
       "  --sklearn-color-fitted-level-2: #b3dbfd;\n",
       "  --sklearn-color-fitted-level-3: cornflowerblue;\n",
       "\n",
       "  /* Specific color for light theme */\n",
       "  --sklearn-color-text-on-default-background: var(--sg-text-color, var(--theme-code-foreground, var(--jp-content-font-color1, black)));\n",
       "  --sklearn-color-background: var(--sg-background-color, var(--theme-background, var(--jp-layout-color0, white)));\n",
       "  --sklearn-color-border-box: var(--sg-text-color, var(--theme-code-foreground, var(--jp-content-font-color1, black)));\n",
       "  --sklearn-color-icon: #696969;\n",
       "\n",
       "  @media (prefers-color-scheme: dark) {\n",
       "    /* Redefinition of color scheme for dark theme */\n",
       "    --sklearn-color-text-on-default-background: var(--sg-text-color, var(--theme-code-foreground, var(--jp-content-font-color1, white)));\n",
       "    --sklearn-color-background: var(--sg-background-color, var(--theme-background, var(--jp-layout-color0, #111)));\n",
       "    --sklearn-color-border-box: var(--sg-text-color, var(--theme-code-foreground, var(--jp-content-font-color1, white)));\n",
       "    --sklearn-color-icon: #878787;\n",
       "  }\n",
       "}\n",
       "\n",
       "#sk-container-id-2 {\n",
       "  color: var(--sklearn-color-text);\n",
       "}\n",
       "\n",
       "#sk-container-id-2 pre {\n",
       "  padding: 0;\n",
       "}\n",
       "\n",
       "#sk-container-id-2 input.sk-hidden--visually {\n",
       "  border: 0;\n",
       "  clip: rect(1px 1px 1px 1px);\n",
       "  clip: rect(1px, 1px, 1px, 1px);\n",
       "  height: 1px;\n",
       "  margin: -1px;\n",
       "  overflow: hidden;\n",
       "  padding: 0;\n",
       "  position: absolute;\n",
       "  width: 1px;\n",
       "}\n",
       "\n",
       "#sk-container-id-2 div.sk-dashed-wrapped {\n",
       "  border: 1px dashed var(--sklearn-color-line);\n",
       "  margin: 0 0.4em 0.5em 0.4em;\n",
       "  box-sizing: border-box;\n",
       "  padding-bottom: 0.4em;\n",
       "  background-color: var(--sklearn-color-background);\n",
       "}\n",
       "\n",
       "#sk-container-id-2 div.sk-container {\n",
       "  /* jupyter's `normalize.less` sets `[hidden] { display: none; }`\n",
       "     but bootstrap.min.css set `[hidden] { display: none !important; }`\n",
       "     so we also need the `!important` here to be able to override the\n",
       "     default hidden behavior on the sphinx rendered scikit-learn.org.\n",
       "     See: https://github.com/scikit-learn/scikit-learn/issues/21755 */\n",
       "  display: inline-block !important;\n",
       "  position: relative;\n",
       "}\n",
       "\n",
       "#sk-container-id-2 div.sk-text-repr-fallback {\n",
       "  display: none;\n",
       "}\n",
       "\n",
       "div.sk-parallel-item,\n",
       "div.sk-serial,\n",
       "div.sk-item {\n",
       "  /* draw centered vertical line to link estimators */\n",
       "  background-image: linear-gradient(var(--sklearn-color-text-on-default-background), var(--sklearn-color-text-on-default-background));\n",
       "  background-size: 2px 100%;\n",
       "  background-repeat: no-repeat;\n",
       "  background-position: center center;\n",
       "}\n",
       "\n",
       "/* Parallel-specific style estimator block */\n",
       "\n",
       "#sk-container-id-2 div.sk-parallel-item::after {\n",
       "  content: \"\";\n",
       "  width: 100%;\n",
       "  border-bottom: 2px solid var(--sklearn-color-text-on-default-background);\n",
       "  flex-grow: 1;\n",
       "}\n",
       "\n",
       "#sk-container-id-2 div.sk-parallel {\n",
       "  display: flex;\n",
       "  align-items: stretch;\n",
       "  justify-content: center;\n",
       "  background-color: var(--sklearn-color-background);\n",
       "  position: relative;\n",
       "}\n",
       "\n",
       "#sk-container-id-2 div.sk-parallel-item {\n",
       "  display: flex;\n",
       "  flex-direction: column;\n",
       "}\n",
       "\n",
       "#sk-container-id-2 div.sk-parallel-item:first-child::after {\n",
       "  align-self: flex-end;\n",
       "  width: 50%;\n",
       "}\n",
       "\n",
       "#sk-container-id-2 div.sk-parallel-item:last-child::after {\n",
       "  align-self: flex-start;\n",
       "  width: 50%;\n",
       "}\n",
       "\n",
       "#sk-container-id-2 div.sk-parallel-item:only-child::after {\n",
       "  width: 0;\n",
       "}\n",
       "\n",
       "/* Serial-specific style estimator block */\n",
       "\n",
       "#sk-container-id-2 div.sk-serial {\n",
       "  display: flex;\n",
       "  flex-direction: column;\n",
       "  align-items: center;\n",
       "  background-color: var(--sklearn-color-background);\n",
       "  padding-right: 1em;\n",
       "  padding-left: 1em;\n",
       "}\n",
       "\n",
       "\n",
       "/* Toggleable style: style used for estimator/Pipeline/ColumnTransformer box that is\n",
       "clickable and can be expanded/collapsed.\n",
       "- Pipeline and ColumnTransformer use this feature and define the default style\n",
       "- Estimators will overwrite some part of the style using the `sk-estimator` class\n",
       "*/\n",
       "\n",
       "/* Pipeline and ColumnTransformer style (default) */\n",
       "\n",
       "#sk-container-id-2 div.sk-toggleable {\n",
       "  /* Default theme specific background. It is overwritten whether we have a\n",
       "  specific estimator or a Pipeline/ColumnTransformer */\n",
       "  background-color: var(--sklearn-color-background);\n",
       "}\n",
       "\n",
       "/* Toggleable label */\n",
       "#sk-container-id-2 label.sk-toggleable__label {\n",
       "  cursor: pointer;\n",
       "  display: block;\n",
       "  width: 100%;\n",
       "  margin-bottom: 0;\n",
       "  padding: 0.5em;\n",
       "  box-sizing: border-box;\n",
       "  text-align: center;\n",
       "}\n",
       "\n",
       "#sk-container-id-2 label.sk-toggleable__label-arrow:before {\n",
       "  /* Arrow on the left of the label */\n",
       "  content: \"▸\";\n",
       "  float: left;\n",
       "  margin-right: 0.25em;\n",
       "  color: var(--sklearn-color-icon);\n",
       "}\n",
       "\n",
       "#sk-container-id-2 label.sk-toggleable__label-arrow:hover:before {\n",
       "  color: var(--sklearn-color-text);\n",
       "}\n",
       "\n",
       "/* Toggleable content - dropdown */\n",
       "\n",
       "#sk-container-id-2 div.sk-toggleable__content {\n",
       "  max-height: 0;\n",
       "  max-width: 0;\n",
       "  overflow: hidden;\n",
       "  text-align: left;\n",
       "  /* unfitted */\n",
       "  background-color: var(--sklearn-color-unfitted-level-0);\n",
       "}\n",
       "\n",
       "#sk-container-id-2 div.sk-toggleable__content.fitted {\n",
       "  /* fitted */\n",
       "  background-color: var(--sklearn-color-fitted-level-0);\n",
       "}\n",
       "\n",
       "#sk-container-id-2 div.sk-toggleable__content pre {\n",
       "  margin: 0.2em;\n",
       "  border-radius: 0.25em;\n",
       "  color: var(--sklearn-color-text);\n",
       "  /* unfitted */\n",
       "  background-color: var(--sklearn-color-unfitted-level-0);\n",
       "}\n",
       "\n",
       "#sk-container-id-2 div.sk-toggleable__content.fitted pre {\n",
       "  /* unfitted */\n",
       "  background-color: var(--sklearn-color-fitted-level-0);\n",
       "}\n",
       "\n",
       "#sk-container-id-2 input.sk-toggleable__control:checked~div.sk-toggleable__content {\n",
       "  /* Expand drop-down */\n",
       "  max-height: 200px;\n",
       "  max-width: 100%;\n",
       "  overflow: auto;\n",
       "}\n",
       "\n",
       "#sk-container-id-2 input.sk-toggleable__control:checked~label.sk-toggleable__label-arrow:before {\n",
       "  content: \"▾\";\n",
       "}\n",
       "\n",
       "/* Pipeline/ColumnTransformer-specific style */\n",
       "\n",
       "#sk-container-id-2 div.sk-label input.sk-toggleable__control:checked~label.sk-toggleable__label {\n",
       "  color: var(--sklearn-color-text);\n",
       "  background-color: var(--sklearn-color-unfitted-level-2);\n",
       "}\n",
       "\n",
       "#sk-container-id-2 div.sk-label.fitted input.sk-toggleable__control:checked~label.sk-toggleable__label {\n",
       "  background-color: var(--sklearn-color-fitted-level-2);\n",
       "}\n",
       "\n",
       "/* Estimator-specific style */\n",
       "\n",
       "/* Colorize estimator box */\n",
       "#sk-container-id-2 div.sk-estimator input.sk-toggleable__control:checked~label.sk-toggleable__label {\n",
       "  /* unfitted */\n",
       "  background-color: var(--sklearn-color-unfitted-level-2);\n",
       "}\n",
       "\n",
       "#sk-container-id-2 div.sk-estimator.fitted input.sk-toggleable__control:checked~label.sk-toggleable__label {\n",
       "  /* fitted */\n",
       "  background-color: var(--sklearn-color-fitted-level-2);\n",
       "}\n",
       "\n",
       "#sk-container-id-2 div.sk-label label.sk-toggleable__label,\n",
       "#sk-container-id-2 div.sk-label label {\n",
       "  /* The background is the default theme color */\n",
       "  color: var(--sklearn-color-text-on-default-background);\n",
       "}\n",
       "\n",
       "/* On hover, darken the color of the background */\n",
       "#sk-container-id-2 div.sk-label:hover label.sk-toggleable__label {\n",
       "  color: var(--sklearn-color-text);\n",
       "  background-color: var(--sklearn-color-unfitted-level-2);\n",
       "}\n",
       "\n",
       "/* Label box, darken color on hover, fitted */\n",
       "#sk-container-id-2 div.sk-label.fitted:hover label.sk-toggleable__label.fitted {\n",
       "  color: var(--sklearn-color-text);\n",
       "  background-color: var(--sklearn-color-fitted-level-2);\n",
       "}\n",
       "\n",
       "/* Estimator label */\n",
       "\n",
       "#sk-container-id-2 div.sk-label label {\n",
       "  font-family: monospace;\n",
       "  font-weight: bold;\n",
       "  display: inline-block;\n",
       "  line-height: 1.2em;\n",
       "}\n",
       "\n",
       "#sk-container-id-2 div.sk-label-container {\n",
       "  text-align: center;\n",
       "}\n",
       "\n",
       "/* Estimator-specific */\n",
       "#sk-container-id-2 div.sk-estimator {\n",
       "  font-family: monospace;\n",
       "  border: 1px dotted var(--sklearn-color-border-box);\n",
       "  border-radius: 0.25em;\n",
       "  box-sizing: border-box;\n",
       "  margin-bottom: 0.5em;\n",
       "  /* unfitted */\n",
       "  background-color: var(--sklearn-color-unfitted-level-0);\n",
       "}\n",
       "\n",
       "#sk-container-id-2 div.sk-estimator.fitted {\n",
       "  /* fitted */\n",
       "  background-color: var(--sklearn-color-fitted-level-0);\n",
       "}\n",
       "\n",
       "/* on hover */\n",
       "#sk-container-id-2 div.sk-estimator:hover {\n",
       "  /* unfitted */\n",
       "  background-color: var(--sklearn-color-unfitted-level-2);\n",
       "}\n",
       "\n",
       "#sk-container-id-2 div.sk-estimator.fitted:hover {\n",
       "  /* fitted */\n",
       "  background-color: var(--sklearn-color-fitted-level-2);\n",
       "}\n",
       "\n",
       "/* Specification for estimator info (e.g. \"i\" and \"?\") */\n",
       "\n",
       "/* Common style for \"i\" and \"?\" */\n",
       "\n",
       ".sk-estimator-doc-link,\n",
       "a:link.sk-estimator-doc-link,\n",
       "a:visited.sk-estimator-doc-link {\n",
       "  float: right;\n",
       "  font-size: smaller;\n",
       "  line-height: 1em;\n",
       "  font-family: monospace;\n",
       "  background-color: var(--sklearn-color-background);\n",
       "  border-radius: 1em;\n",
       "  height: 1em;\n",
       "  width: 1em;\n",
       "  text-decoration: none !important;\n",
       "  margin-left: 1ex;\n",
       "  /* unfitted */\n",
       "  border: var(--sklearn-color-unfitted-level-1) 1pt solid;\n",
       "  color: var(--sklearn-color-unfitted-level-1);\n",
       "}\n",
       "\n",
       ".sk-estimator-doc-link.fitted,\n",
       "a:link.sk-estimator-doc-link.fitted,\n",
       "a:visited.sk-estimator-doc-link.fitted {\n",
       "  /* fitted */\n",
       "  border: var(--sklearn-color-fitted-level-1) 1pt solid;\n",
       "  color: var(--sklearn-color-fitted-level-1);\n",
       "}\n",
       "\n",
       "/* On hover */\n",
       "div.sk-estimator:hover .sk-estimator-doc-link:hover,\n",
       ".sk-estimator-doc-link:hover,\n",
       "div.sk-label-container:hover .sk-estimator-doc-link:hover,\n",
       ".sk-estimator-doc-link:hover {\n",
       "  /* unfitted */\n",
       "  background-color: var(--sklearn-color-unfitted-level-3);\n",
       "  color: var(--sklearn-color-background);\n",
       "  text-decoration: none;\n",
       "}\n",
       "\n",
       "div.sk-estimator.fitted:hover .sk-estimator-doc-link.fitted:hover,\n",
       ".sk-estimator-doc-link.fitted:hover,\n",
       "div.sk-label-container:hover .sk-estimator-doc-link.fitted:hover,\n",
       ".sk-estimator-doc-link.fitted:hover {\n",
       "  /* fitted */\n",
       "  background-color: var(--sklearn-color-fitted-level-3);\n",
       "  color: var(--sklearn-color-background);\n",
       "  text-decoration: none;\n",
       "}\n",
       "\n",
       "/* Span, style for the box shown on hovering the info icon */\n",
       ".sk-estimator-doc-link span {\n",
       "  display: none;\n",
       "  z-index: 9999;\n",
       "  position: relative;\n",
       "  font-weight: normal;\n",
       "  right: .2ex;\n",
       "  padding: .5ex;\n",
       "  margin: .5ex;\n",
       "  width: min-content;\n",
       "  min-width: 20ex;\n",
       "  max-width: 50ex;\n",
       "  color: var(--sklearn-color-text);\n",
       "  box-shadow: 2pt 2pt 4pt #999;\n",
       "  /* unfitted */\n",
       "  background: var(--sklearn-color-unfitted-level-0);\n",
       "  border: .5pt solid var(--sklearn-color-unfitted-level-3);\n",
       "}\n",
       "\n",
       ".sk-estimator-doc-link.fitted span {\n",
       "  /* fitted */\n",
       "  background: var(--sklearn-color-fitted-level-0);\n",
       "  border: var(--sklearn-color-fitted-level-3);\n",
       "}\n",
       "\n",
       ".sk-estimator-doc-link:hover span {\n",
       "  display: block;\n",
       "}\n",
       "\n",
       "/* \"?\"-specific style due to the `<a>` HTML tag */\n",
       "\n",
       "#sk-container-id-2 a.estimator_doc_link {\n",
       "  float: right;\n",
       "  font-size: 1rem;\n",
       "  line-height: 1em;\n",
       "  font-family: monospace;\n",
       "  background-color: var(--sklearn-color-background);\n",
       "  border-radius: 1rem;\n",
       "  height: 1rem;\n",
       "  width: 1rem;\n",
       "  text-decoration: none;\n",
       "  /* unfitted */\n",
       "  color: var(--sklearn-color-unfitted-level-1);\n",
       "  border: var(--sklearn-color-unfitted-level-1) 1pt solid;\n",
       "}\n",
       "\n",
       "#sk-container-id-2 a.estimator_doc_link.fitted {\n",
       "  /* fitted */\n",
       "  border: var(--sklearn-color-fitted-level-1) 1pt solid;\n",
       "  color: var(--sklearn-color-fitted-level-1);\n",
       "}\n",
       "\n",
       "/* On hover */\n",
       "#sk-container-id-2 a.estimator_doc_link:hover {\n",
       "  /* unfitted */\n",
       "  background-color: var(--sklearn-color-unfitted-level-3);\n",
       "  color: var(--sklearn-color-background);\n",
       "  text-decoration: none;\n",
       "}\n",
       "\n",
       "#sk-container-id-2 a.estimator_doc_link.fitted:hover {\n",
       "  /* fitted */\n",
       "  background-color: var(--sklearn-color-fitted-level-3);\n",
       "}\n",
       "</style><div id=\"sk-container-id-2\" class=\"sk-top-container\"><div class=\"sk-text-repr-fallback\"><pre>RidgeClassifier(alpha=1.0, class_weight=None, copy_X=True, fit_intercept=True,\n",
       "                max_iter=None, positive=False, random_state=123, solver=&#x27;auto&#x27;,\n",
       "                tol=0.0001)</pre><b>In a Jupyter environment, please rerun this cell to show the HTML representation or trust the notebook. <br />On GitHub, the HTML representation is unable to render, please try loading this page with nbviewer.org.</b></div><div class=\"sk-container\" hidden><div class=\"sk-item\"><div class=\"sk-estimator fitted sk-toggleable\"><input class=\"sk-toggleable__control sk-hidden--visually\" id=\"sk-estimator-id-2\" type=\"checkbox\" checked><label for=\"sk-estimator-id-2\" class=\"sk-toggleable__label fitted sk-toggleable__label-arrow fitted\">&nbsp;&nbsp;RidgeClassifier<a class=\"sk-estimator-doc-link fitted\" rel=\"noreferrer\" target=\"_blank\" href=\"https://scikit-learn.org/1.4/modules/generated/sklearn.linear_model.RidgeClassifier.html\">?<span>Documentation for RidgeClassifier</span></a><span class=\"sk-estimator-doc-link fitted\">i<span>Fitted</span></span></label><div class=\"sk-toggleable__content fitted\"><pre>RidgeClassifier(alpha=1.0, class_weight=None, copy_X=True, fit_intercept=True,\n",
       "                max_iter=None, positive=False, random_state=123, solver=&#x27;auto&#x27;,\n",
       "                tol=0.0001)</pre></div> </div></div></div></div>"
      ],
      "text/plain": [
       "RidgeClassifier(alpha=1.0, class_weight=None, copy_X=True, fit_intercept=True,\n",
       "                max_iter=None, positive=False, random_state=123, solver='auto',\n",
       "                tol=0.0001)"
      ]
     },
     "execution_count": 65,
     "metadata": {},
     "output_type": "execute_result"
    }
   ],
   "source": [
    "s.compare_models()"
   ]
  },
  {
   "cell_type": "code",
   "execution_count": 74,
   "id": "56521426",
   "metadata": {},
   "outputs": [
    {
     "data": {
      "text/html": [],
      "text/plain": [
       "<IPython.core.display.HTML object>"
      ]
     },
     "metadata": {},
     "output_type": "display_data"
    },
    {
     "data": {
      "text/html": [
       "<style type=\"text/css\">\n",
       "#T_f2244_row10_col0, #T_f2244_row10_col1, #T_f2244_row10_col2, #T_f2244_row10_col3, #T_f2244_row10_col4, #T_f2244_row10_col5, #T_f2244_row10_col6 {\n",
       "  background: yellow;\n",
       "}\n",
       "</style>\n",
       "<table id=\"T_f2244\">\n",
       "  <thead>\n",
       "    <tr>\n",
       "      <th class=\"blank level0\" >&nbsp;</th>\n",
       "      <th id=\"T_f2244_level0_col0\" class=\"col_heading level0 col0\" >Accuracy</th>\n",
       "      <th id=\"T_f2244_level0_col1\" class=\"col_heading level0 col1\" >AUC</th>\n",
       "      <th id=\"T_f2244_level0_col2\" class=\"col_heading level0 col2\" >Recall</th>\n",
       "      <th id=\"T_f2244_level0_col3\" class=\"col_heading level0 col3\" >Prec.</th>\n",
       "      <th id=\"T_f2244_level0_col4\" class=\"col_heading level0 col4\" >F1</th>\n",
       "      <th id=\"T_f2244_level0_col5\" class=\"col_heading level0 col5\" >Kappa</th>\n",
       "      <th id=\"T_f2244_level0_col6\" class=\"col_heading level0 col6\" >MCC</th>\n",
       "    </tr>\n",
       "    <tr>\n",
       "      <th class=\"index_name level0\" >Fold</th>\n",
       "      <th class=\"blank col0\" >&nbsp;</th>\n",
       "      <th class=\"blank col1\" >&nbsp;</th>\n",
       "      <th class=\"blank col2\" >&nbsp;</th>\n",
       "      <th class=\"blank col3\" >&nbsp;</th>\n",
       "      <th class=\"blank col4\" >&nbsp;</th>\n",
       "      <th class=\"blank col5\" >&nbsp;</th>\n",
       "      <th class=\"blank col6\" >&nbsp;</th>\n",
       "    </tr>\n",
       "  </thead>\n",
       "  <tbody>\n",
       "    <tr>\n",
       "      <th id=\"T_f2244_level0_row0\" class=\"row_heading level0 row0\" >0</th>\n",
       "      <td id=\"T_f2244_row0_col0\" class=\"data row0 col0\" >0.9674</td>\n",
       "      <td id=\"T_f2244_row0_col1\" class=\"data row0 col1\" >0.9955</td>\n",
       "      <td id=\"T_f2244_row0_col2\" class=\"data row0 col2\" >0.9429</td>\n",
       "      <td id=\"T_f2244_row0_col3\" class=\"data row0 col3\" >0.9706</td>\n",
       "      <td id=\"T_f2244_row0_col4\" class=\"data row0 col4\" >0.9565</td>\n",
       "      <td id=\"T_f2244_row0_col5\" class=\"data row0 col5\" >0.9304</td>\n",
       "      <td id=\"T_f2244_row0_col6\" class=\"data row0 col6\" >0.9307</td>\n",
       "    </tr>\n",
       "    <tr>\n",
       "      <th id=\"T_f2244_level0_row1\" class=\"row_heading level0 row1\" >1</th>\n",
       "      <td id=\"T_f2244_row1_col0\" class=\"data row1 col0\" >0.9565</td>\n",
       "      <td id=\"T_f2244_row1_col1\" class=\"data row1 col1\" >0.9850</td>\n",
       "      <td id=\"T_f2244_row1_col2\" class=\"data row1 col2\" >0.8857</td>\n",
       "      <td id=\"T_f2244_row1_col3\" class=\"data row1 col3\" >1.0000</td>\n",
       "      <td id=\"T_f2244_row1_col4\" class=\"data row1 col4\" >0.9394</td>\n",
       "      <td id=\"T_f2244_row1_col5\" class=\"data row1 col5\" >0.9057</td>\n",
       "      <td id=\"T_f2244_row1_col6\" class=\"data row1 col6\" >0.9097</td>\n",
       "    </tr>\n",
       "    <tr>\n",
       "      <th id=\"T_f2244_level0_row2\" class=\"row_heading level0 row2\" >2</th>\n",
       "      <td id=\"T_f2244_row2_col0\" class=\"data row2 col0\" >0.9457</td>\n",
       "      <td id=\"T_f2244_row2_col1\" class=\"data row2 col1\" >0.9895</td>\n",
       "      <td id=\"T_f2244_row2_col2\" class=\"data row2 col2\" >0.8857</td>\n",
       "      <td id=\"T_f2244_row2_col3\" class=\"data row2 col3\" >0.9688</td>\n",
       "      <td id=\"T_f2244_row2_col4\" class=\"data row2 col4\" >0.9254</td>\n",
       "      <td id=\"T_f2244_row2_col5\" class=\"data row2 col5\" >0.8828</td>\n",
       "      <td id=\"T_f2244_row2_col6\" class=\"data row2 col6\" >0.8850</td>\n",
       "    </tr>\n",
       "    <tr>\n",
       "      <th id=\"T_f2244_level0_row3\" class=\"row_heading level0 row3\" >3</th>\n",
       "      <td id=\"T_f2244_row3_col0\" class=\"data row3 col0\" >0.9457</td>\n",
       "      <td id=\"T_f2244_row3_col1\" class=\"data row3 col1\" >0.9820</td>\n",
       "      <td id=\"T_f2244_row3_col2\" class=\"data row3 col2\" >0.8857</td>\n",
       "      <td id=\"T_f2244_row3_col3\" class=\"data row3 col3\" >0.9688</td>\n",
       "      <td id=\"T_f2244_row3_col4\" class=\"data row3 col4\" >0.9254</td>\n",
       "      <td id=\"T_f2244_row3_col5\" class=\"data row3 col5\" >0.8828</td>\n",
       "      <td id=\"T_f2244_row3_col6\" class=\"data row3 col6\" >0.8850</td>\n",
       "    </tr>\n",
       "    <tr>\n",
       "      <th id=\"T_f2244_level0_row4\" class=\"row_heading level0 row4\" >4</th>\n",
       "      <td id=\"T_f2244_row4_col0\" class=\"data row4 col0\" >0.9239</td>\n",
       "      <td id=\"T_f2244_row4_col1\" class=\"data row4 col1\" >0.9449</td>\n",
       "      <td id=\"T_f2244_row4_col2\" class=\"data row4 col2\" >0.8000</td>\n",
       "      <td id=\"T_f2244_row4_col3\" class=\"data row4 col3\" >1.0000</td>\n",
       "      <td id=\"T_f2244_row4_col4\" class=\"data row4 col4\" >0.8889</td>\n",
       "      <td id=\"T_f2244_row4_col5\" class=\"data row4 col5\" >0.8321</td>\n",
       "      <td id=\"T_f2244_row4_col6\" class=\"data row4 col6\" >0.8441</td>\n",
       "    </tr>\n",
       "    <tr>\n",
       "      <th id=\"T_f2244_level0_row5\" class=\"row_heading level0 row5\" >5</th>\n",
       "      <td id=\"T_f2244_row5_col0\" class=\"data row5 col0\" >0.9348</td>\n",
       "      <td id=\"T_f2244_row5_col1\" class=\"data row5 col1\" >0.9724</td>\n",
       "      <td id=\"T_f2244_row5_col2\" class=\"data row5 col2\" >0.8571</td>\n",
       "      <td id=\"T_f2244_row5_col3\" class=\"data row5 col3\" >0.9677</td>\n",
       "      <td id=\"T_f2244_row5_col4\" class=\"data row5 col4\" >0.9091</td>\n",
       "      <td id=\"T_f2244_row5_col5\" class=\"data row5 col5\" >0.8585</td>\n",
       "      <td id=\"T_f2244_row5_col6\" class=\"data row5 col6\" >0.8624</td>\n",
       "    </tr>\n",
       "    <tr>\n",
       "      <th id=\"T_f2244_level0_row6\" class=\"row_heading level0 row6\" >6</th>\n",
       "      <td id=\"T_f2244_row6_col0\" class=\"data row6 col0\" >0.9560</td>\n",
       "      <td id=\"T_f2244_row6_col1\" class=\"data row6 col1\" >0.9648</td>\n",
       "      <td id=\"T_f2244_row6_col2\" class=\"data row6 col2\" >0.9143</td>\n",
       "      <td id=\"T_f2244_row6_col3\" class=\"data row6 col3\" >0.9697</td>\n",
       "      <td id=\"T_f2244_row6_col4\" class=\"data row6 col4\" >0.9412</td>\n",
       "      <td id=\"T_f2244_row6_col5\" class=\"data row6 col5\" >0.9061</td>\n",
       "      <td id=\"T_f2244_row6_col6\" class=\"data row6 col6\" >0.9071</td>\n",
       "    </tr>\n",
       "    <tr>\n",
       "      <th id=\"T_f2244_level0_row7\" class=\"row_heading level0 row7\" >7</th>\n",
       "      <td id=\"T_f2244_row7_col0\" class=\"data row7 col0\" >0.9231</td>\n",
       "      <td id=\"T_f2244_row7_col1\" class=\"data row7 col1\" >0.9832</td>\n",
       "      <td id=\"T_f2244_row7_col2\" class=\"data row7 col2\" >0.8286</td>\n",
       "      <td id=\"T_f2244_row7_col3\" class=\"data row7 col3\" >0.9667</td>\n",
       "      <td id=\"T_f2244_row7_col4\" class=\"data row7 col4\" >0.8923</td>\n",
       "      <td id=\"T_f2244_row7_col5\" class=\"data row7 col5\" >0.8330</td>\n",
       "      <td id=\"T_f2244_row7_col6\" class=\"data row7 col6\" >0.8390</td>\n",
       "    </tr>\n",
       "    <tr>\n",
       "      <th id=\"T_f2244_level0_row8\" class=\"row_heading level0 row8\" >8</th>\n",
       "      <td id=\"T_f2244_row8_col0\" class=\"data row8 col0\" >0.9231</td>\n",
       "      <td id=\"T_f2244_row8_col1\" class=\"data row8 col1\" >0.9796</td>\n",
       "      <td id=\"T_f2244_row8_col2\" class=\"data row8 col2\" >0.8000</td>\n",
       "      <td id=\"T_f2244_row8_col3\" class=\"data row8 col3\" >1.0000</td>\n",
       "      <td id=\"T_f2244_row8_col4\" class=\"data row8 col4\" >0.8889</td>\n",
       "      <td id=\"T_f2244_row8_col5\" class=\"data row8 col5\" >0.8312</td>\n",
       "      <td id=\"T_f2244_row8_col6\" class=\"data row8 col6\" >0.8433</td>\n",
       "    </tr>\n",
       "    <tr>\n",
       "      <th id=\"T_f2244_level0_row9\" class=\"row_heading level0 row9\" >9</th>\n",
       "      <td id=\"T_f2244_row9_col0\" class=\"data row9 col0\" >0.9670</td>\n",
       "      <td id=\"T_f2244_row9_col1\" class=\"data row9 col1\" >0.9821</td>\n",
       "      <td id=\"T_f2244_row9_col2\" class=\"data row9 col2\" >0.9143</td>\n",
       "      <td id=\"T_f2244_row9_col3\" class=\"data row9 col3\" >1.0000</td>\n",
       "      <td id=\"T_f2244_row9_col4\" class=\"data row9 col4\" >0.9552</td>\n",
       "      <td id=\"T_f2244_row9_col5\" class=\"data row9 col5\" >0.9292</td>\n",
       "      <td id=\"T_f2244_row9_col6\" class=\"data row9 col6\" >0.9316</td>\n",
       "    </tr>\n",
       "    <tr>\n",
       "      <th id=\"T_f2244_level0_row10\" class=\"row_heading level0 row10\" >Mean</th>\n",
       "      <td id=\"T_f2244_row10_col0\" class=\"data row10 col0\" >0.9443</td>\n",
       "      <td id=\"T_f2244_row10_col1\" class=\"data row10 col1\" >0.9779</td>\n",
       "      <td id=\"T_f2244_row10_col2\" class=\"data row10 col2\" >0.8714</td>\n",
       "      <td id=\"T_f2244_row10_col3\" class=\"data row10 col3\" >0.9812</td>\n",
       "      <td id=\"T_f2244_row10_col4\" class=\"data row10 col4\" >0.9222</td>\n",
       "      <td id=\"T_f2244_row10_col5\" class=\"data row10 col5\" >0.8792</td>\n",
       "      <td id=\"T_f2244_row10_col6\" class=\"data row10 col6\" >0.8838</td>\n",
       "    </tr>\n",
       "    <tr>\n",
       "      <th id=\"T_f2244_level0_row11\" class=\"row_heading level0 row11\" >Std</th>\n",
       "      <td id=\"T_f2244_row11_col0\" class=\"data row11 col0\" >0.0166</td>\n",
       "      <td id=\"T_f2244_row11_col1\" class=\"data row11 col1\" >0.0136</td>\n",
       "      <td id=\"T_f2244_row11_col2\" class=\"data row11 col2\" >0.0465</td>\n",
       "      <td id=\"T_f2244_row11_col3\" class=\"data row11 col3\" >0.0154</td>\n",
       "      <td id=\"T_f2244_row11_col4\" class=\"data row11 col4\" >0.0250</td>\n",
       "      <td id=\"T_f2244_row11_col5\" class=\"data row11 col5\" >0.0370</td>\n",
       "      <td id=\"T_f2244_row11_col6\" class=\"data row11 col6\" >0.0337</td>\n",
       "    </tr>\n",
       "  </tbody>\n",
       "</table>\n"
      ],
      "text/plain": [
       "<pandas.io.formats.style.Styler at 0x33459aeb0>"
      ]
     },
     "metadata": {},
     "output_type": "display_data"
    },
    {
     "data": {
      "text/html": [],
      "text/plain": [
       "<IPython.core.display.HTML object>"
      ]
     },
     "metadata": {},
     "output_type": "display_data"
    }
   ],
   "source": [
    "lr = s.create_model(\"lr\")"
   ]
  },
  {
   "cell_type": "code",
   "execution_count": 75,
   "id": "527003d9",
   "metadata": {},
   "outputs": [
    {
     "data": {
      "text/html": [],
      "text/plain": [
       "<IPython.core.display.HTML object>"
      ]
     },
     "metadata": {},
     "output_type": "display_data"
    },
    {
     "data": {
      "text/html": [
       "<style type=\"text/css\">\n",
       "#T_b4655_row10_col0, #T_b4655_row10_col1, #T_b4655_row10_col2, #T_b4655_row10_col3, #T_b4655_row10_col4, #T_b4655_row10_col5, #T_b4655_row10_col6 {\n",
       "  background: yellow;\n",
       "}\n",
       "</style>\n",
       "<table id=\"T_b4655\">\n",
       "  <thead>\n",
       "    <tr>\n",
       "      <th class=\"blank level0\" >&nbsp;</th>\n",
       "      <th id=\"T_b4655_level0_col0\" class=\"col_heading level0 col0\" >Accuracy</th>\n",
       "      <th id=\"T_b4655_level0_col1\" class=\"col_heading level0 col1\" >AUC</th>\n",
       "      <th id=\"T_b4655_level0_col2\" class=\"col_heading level0 col2\" >Recall</th>\n",
       "      <th id=\"T_b4655_level0_col3\" class=\"col_heading level0 col3\" >Prec.</th>\n",
       "      <th id=\"T_b4655_level0_col4\" class=\"col_heading level0 col4\" >F1</th>\n",
       "      <th id=\"T_b4655_level0_col5\" class=\"col_heading level0 col5\" >Kappa</th>\n",
       "      <th id=\"T_b4655_level0_col6\" class=\"col_heading level0 col6\" >MCC</th>\n",
       "    </tr>\n",
       "    <tr>\n",
       "      <th class=\"index_name level0\" >Fold</th>\n",
       "      <th class=\"blank col0\" >&nbsp;</th>\n",
       "      <th class=\"blank col1\" >&nbsp;</th>\n",
       "      <th class=\"blank col2\" >&nbsp;</th>\n",
       "      <th class=\"blank col3\" >&nbsp;</th>\n",
       "      <th class=\"blank col4\" >&nbsp;</th>\n",
       "      <th class=\"blank col5\" >&nbsp;</th>\n",
       "      <th class=\"blank col6\" >&nbsp;</th>\n",
       "    </tr>\n",
       "  </thead>\n",
       "  <tbody>\n",
       "    <tr>\n",
       "      <th id=\"T_b4655_level0_row0\" class=\"row_heading level0 row0\" >0</th>\n",
       "      <td id=\"T_b4655_row0_col0\" class=\"data row0 col0\" >0.9674</td>\n",
       "      <td id=\"T_b4655_row0_col1\" class=\"data row0 col1\" >0.9925</td>\n",
       "      <td id=\"T_b4655_row0_col2\" class=\"data row0 col2\" >0.9714</td>\n",
       "      <td id=\"T_b4655_row0_col3\" class=\"data row0 col3\" >0.9444</td>\n",
       "      <td id=\"T_b4655_row0_col4\" class=\"data row0 col4\" >0.9577</td>\n",
       "      <td id=\"T_b4655_row0_col5\" class=\"data row0 col5\" >0.9312</td>\n",
       "      <td id=\"T_b4655_row0_col6\" class=\"data row0 col6\" >0.9315</td>\n",
       "    </tr>\n",
       "    <tr>\n",
       "      <th id=\"T_b4655_level0_row1\" class=\"row_heading level0 row1\" >1</th>\n",
       "      <td id=\"T_b4655_row1_col0\" class=\"data row1 col0\" >0.9565</td>\n",
       "      <td id=\"T_b4655_row1_col1\" class=\"data row1 col1\" >0.9885</td>\n",
       "      <td id=\"T_b4655_row1_col2\" class=\"data row1 col2\" >0.8857</td>\n",
       "      <td id=\"T_b4655_row1_col3\" class=\"data row1 col3\" >1.0000</td>\n",
       "      <td id=\"T_b4655_row1_col4\" class=\"data row1 col4\" >0.9394</td>\n",
       "      <td id=\"T_b4655_row1_col5\" class=\"data row1 col5\" >0.9057</td>\n",
       "      <td id=\"T_b4655_row1_col6\" class=\"data row1 col6\" >0.9097</td>\n",
       "    </tr>\n",
       "    <tr>\n",
       "      <th id=\"T_b4655_level0_row2\" class=\"row_heading level0 row2\" >2</th>\n",
       "      <td id=\"T_b4655_row2_col0\" class=\"data row2 col0\" >0.9565</td>\n",
       "      <td id=\"T_b4655_row2_col1\" class=\"data row2 col1\" >0.9895</td>\n",
       "      <td id=\"T_b4655_row2_col2\" class=\"data row2 col2\" >0.9143</td>\n",
       "      <td id=\"T_b4655_row2_col3\" class=\"data row2 col3\" >0.9697</td>\n",
       "      <td id=\"T_b4655_row2_col4\" class=\"data row2 col4\" >0.9412</td>\n",
       "      <td id=\"T_b4655_row2_col5\" class=\"data row2 col5\" >0.9067</td>\n",
       "      <td id=\"T_b4655_row2_col6\" class=\"data row2 col6\" >0.9077</td>\n",
       "    </tr>\n",
       "    <tr>\n",
       "      <th id=\"T_b4655_level0_row3\" class=\"row_heading level0 row3\" >3</th>\n",
       "      <td id=\"T_b4655_row3_col0\" class=\"data row3 col0\" >0.9565</td>\n",
       "      <td id=\"T_b4655_row3_col1\" class=\"data row3 col1\" >0.9820</td>\n",
       "      <td id=\"T_b4655_row3_col2\" class=\"data row3 col2\" >0.9143</td>\n",
       "      <td id=\"T_b4655_row3_col3\" class=\"data row3 col3\" >0.9697</td>\n",
       "      <td id=\"T_b4655_row3_col4\" class=\"data row3 col4\" >0.9412</td>\n",
       "      <td id=\"T_b4655_row3_col5\" class=\"data row3 col5\" >0.9067</td>\n",
       "      <td id=\"T_b4655_row3_col6\" class=\"data row3 col6\" >0.9077</td>\n",
       "    </tr>\n",
       "    <tr>\n",
       "      <th id=\"T_b4655_level0_row4\" class=\"row_heading level0 row4\" >4</th>\n",
       "      <td id=\"T_b4655_row4_col0\" class=\"data row4 col0\" >0.9348</td>\n",
       "      <td id=\"T_b4655_row4_col1\" class=\"data row4 col1\" >0.9474</td>\n",
       "      <td id=\"T_b4655_row4_col2\" class=\"data row4 col2\" >0.8286</td>\n",
       "      <td id=\"T_b4655_row4_col3\" class=\"data row4 col3\" >1.0000</td>\n",
       "      <td id=\"T_b4655_row4_col4\" class=\"data row4 col4\" >0.9062</td>\n",
       "      <td id=\"T_b4655_row4_col5\" class=\"data row4 col5\" >0.8569</td>\n",
       "      <td id=\"T_b4655_row4_col6\" class=\"data row4 col6\" >0.8658</td>\n",
       "    </tr>\n",
       "    <tr>\n",
       "      <th id=\"T_b4655_level0_row5\" class=\"row_heading level0 row5\" >5</th>\n",
       "      <td id=\"T_b4655_row5_col0\" class=\"data row5 col0\" >0.9565</td>\n",
       "      <td id=\"T_b4655_row5_col1\" class=\"data row5 col1\" >0.9779</td>\n",
       "      <td id=\"T_b4655_row5_col2\" class=\"data row5 col2\" >0.9143</td>\n",
       "      <td id=\"T_b4655_row5_col3\" class=\"data row5 col3\" >0.9697</td>\n",
       "      <td id=\"T_b4655_row5_col4\" class=\"data row5 col4\" >0.9412</td>\n",
       "      <td id=\"T_b4655_row5_col5\" class=\"data row5 col5\" >0.9067</td>\n",
       "      <td id=\"T_b4655_row5_col6\" class=\"data row5 col6\" >0.9077</td>\n",
       "    </tr>\n",
       "    <tr>\n",
       "      <th id=\"T_b4655_level0_row6\" class=\"row_heading level0 row6\" >6</th>\n",
       "      <td id=\"T_b4655_row6_col0\" class=\"data row6 col0\" >0.9451</td>\n",
       "      <td id=\"T_b4655_row6_col1\" class=\"data row6 col1\" >0.9638</td>\n",
       "      <td id=\"T_b4655_row6_col2\" class=\"data row6 col2\" >0.9143</td>\n",
       "      <td id=\"T_b4655_row6_col3\" class=\"data row6 col3\" >0.9412</td>\n",
       "      <td id=\"T_b4655_row6_col4\" class=\"data row6 col4\" >0.9275</td>\n",
       "      <td id=\"T_b4655_row6_col5\" class=\"data row6 col5\" >0.8833</td>\n",
       "      <td id=\"T_b4655_row6_col6\" class=\"data row6 col6\" >0.8835</td>\n",
       "    </tr>\n",
       "    <tr>\n",
       "      <th id=\"T_b4655_level0_row7\" class=\"row_heading level0 row7\" >7</th>\n",
       "      <td id=\"T_b4655_row7_col0\" class=\"data row7 col0\" >0.9451</td>\n",
       "      <td id=\"T_b4655_row7_col1\" class=\"data row7 col1\" >0.9867</td>\n",
       "      <td id=\"T_b4655_row7_col2\" class=\"data row7 col2\" >0.8857</td>\n",
       "      <td id=\"T_b4655_row7_col3\" class=\"data row7 col3\" >0.9688</td>\n",
       "      <td id=\"T_b4655_row7_col4\" class=\"data row7 col4\" >0.9254</td>\n",
       "      <td id=\"T_b4655_row7_col5\" class=\"data row7 col5\" >0.8820</td>\n",
       "      <td id=\"T_b4655_row7_col6\" class=\"data row7 col6\" >0.8843</td>\n",
       "    </tr>\n",
       "    <tr>\n",
       "      <th id=\"T_b4655_level0_row8\" class=\"row_heading level0 row8\" >8</th>\n",
       "      <td id=\"T_b4655_row8_col0\" class=\"data row8 col0\" >0.9011</td>\n",
       "      <td id=\"T_b4655_row8_col1\" class=\"data row8 col1\" >0.9801</td>\n",
       "      <td id=\"T_b4655_row8_col2\" class=\"data row8 col2\" >0.8286</td>\n",
       "      <td id=\"T_b4655_row8_col3\" class=\"data row8 col3\" >0.9062</td>\n",
       "      <td id=\"T_b4655_row8_col4\" class=\"data row8 col4\" >0.8657</td>\n",
       "      <td id=\"T_b4655_row8_col5\" class=\"data row8 col5\" >0.7877</td>\n",
       "      <td id=\"T_b4655_row8_col6\" class=\"data row8 col6\" >0.7896</td>\n",
       "    </tr>\n",
       "    <tr>\n",
       "      <th id=\"T_b4655_level0_row9\" class=\"row_heading level0 row9\" >9</th>\n",
       "      <td id=\"T_b4655_row9_col0\" class=\"data row9 col0\" >0.9451</td>\n",
       "      <td id=\"T_b4655_row9_col1\" class=\"data row9 col1\" >0.9857</td>\n",
       "      <td id=\"T_b4655_row9_col2\" class=\"data row9 col2\" >0.9143</td>\n",
       "      <td id=\"T_b4655_row9_col3\" class=\"data row9 col3\" >0.9412</td>\n",
       "      <td id=\"T_b4655_row9_col4\" class=\"data row9 col4\" >0.9275</td>\n",
       "      <td id=\"T_b4655_row9_col5\" class=\"data row9 col5\" >0.8833</td>\n",
       "      <td id=\"T_b4655_row9_col6\" class=\"data row9 col6\" >0.8835</td>\n",
       "    </tr>\n",
       "    <tr>\n",
       "      <th id=\"T_b4655_level0_row10\" class=\"row_heading level0 row10\" >Mean</th>\n",
       "      <td id=\"T_b4655_row10_col0\" class=\"data row10 col0\" >0.9465</td>\n",
       "      <td id=\"T_b4655_row10_col1\" class=\"data row10 col1\" >0.9794</td>\n",
       "      <td id=\"T_b4655_row10_col2\" class=\"data row10 col2\" >0.8971</td>\n",
       "      <td id=\"T_b4655_row10_col3\" class=\"data row10 col3\" >0.9611</td>\n",
       "      <td id=\"T_b4655_row10_col4\" class=\"data row10 col4\" >0.9273</td>\n",
       "      <td id=\"T_b4655_row10_col5\" class=\"data row10 col5\" >0.8850</td>\n",
       "      <td id=\"T_b4655_row10_col6\" class=\"data row10 col6\" >0.8871</td>\n",
       "    </tr>\n",
       "    <tr>\n",
       "      <th id=\"T_b4655_level0_row11\" class=\"row_heading level0 row11\" >Std</th>\n",
       "      <td id=\"T_b4655_row11_col0\" class=\"data row11 col0\" >0.0174</td>\n",
       "      <td id=\"T_b4655_row11_col1\" class=\"data row11 col1\" >0.0131</td>\n",
       "      <td id=\"T_b4655_row11_col2\" class=\"data row11 col2\" >0.0408</td>\n",
       "      <td id=\"T_b4655_row11_col3\" class=\"data row11 col3\" >0.0272</td>\n",
       "      <td id=\"T_b4655_row11_col4\" class=\"data row11 col4\" >0.0243</td>\n",
       "      <td id=\"T_b4655_row11_col5\" class=\"data row11 col5\" >0.0378</td>\n",
       "      <td id=\"T_b4655_row11_col6\" class=\"data row11 col6\" >0.0371</td>\n",
       "    </tr>\n",
       "  </tbody>\n",
       "</table>\n"
      ],
      "text/plain": [
       "<pandas.io.formats.style.Styler at 0x33445e550>"
      ]
     },
     "metadata": {},
     "output_type": "display_data"
    },
    {
     "data": {
      "text/html": [],
      "text/plain": [
       "<IPython.core.display.HTML object>"
      ]
     },
     "metadata": {},
     "output_type": "display_data"
    },
    {
     "name": "stdout",
     "output_type": "stream",
     "text": [
      "Fitting 10 folds for each of 10 candidates, totalling 100 fits\n"
     ]
    }
   ],
   "source": [
    "lr_tuned = s.tune_model(lr, n_iter=10, optimize=\"auc\")"
   ]
  },
  {
   "cell_type": "markdown",
   "id": "91cd0d29",
   "metadata": {},
   "source": [
    "RESULTADOS DO MODELO\n",
    "# =================================================="
   ]
  },
  {
   "cell_type": "code",
   "execution_count": 76,
   "id": "ab748c02",
   "metadata": {},
   "outputs": [
    {
     "data": {
      "text/html": [],
      "text/plain": [
       "<IPython.core.display.HTML object>"
      ]
     },
     "metadata": {},
     "output_type": "display_data"
    },
    {
     "data": {
      "image/png": "[encoded data removed]",
      "text/plain": [
       "<Figure size 800x550 with 1 Axes>"
      ]
     },
     "metadata": {},
     "output_type": "display_data"
    }
   ],
   "source": [
    "s.plot_model(ridge_tuned, plot=\"auc\")"
   ]
  },
  {
   "cell_type": "code",
   "execution_count": 77,
   "id": "27571b18",
   "metadata": {},
   "outputs": [
    {
     "data": {
      "text/html": [],
      "text/plain": [
       "<IPython.core.display.HTML object>"
      ]
     },
     "metadata": {},
     "output_type": "display_data"
    },
    {
     "data": {
      "image/png": "[encoded data removed]",
      "text/plain": [
       "<Figure size 800x550 with 1 Axes>"
      ]
     },
     "metadata": {},
     "output_type": "display_data"
    }
   ],
   "source": [
    "s.plot_model(ridge_tuned, plot=\"confusion_matrix\", plot_kwargs={\"percent\": True})"
   ]
  },
  {
   "cell_type": "code",
   "execution_count": 78,
   "id": "19bf1d4f",
   "metadata": {},
   "outputs": [
    {
     "data": {
      "text/html": [],
      "text/plain": [
       "<IPython.core.display.HTML object>"
      ]
     },
     "metadata": {},
     "output_type": "display_data"
    },
    {
     "data": {
      "image/png": "[encoded data removed]",
      "text/plain": [
       "<Figure size 800x550 with 1 Axes>"
      ]
     },
     "metadata": {},
     "output_type": "display_data"
    }
   ],
   "source": [
    "s.plot_model(ridge_tuned, plot=\"pr\")"
   ]
  },
  {
   "cell_type": "code",
   "execution_count": 80,
   "id": "1ff583c2",
   "metadata": {},
   "outputs": [
    {
     "data": {
      "text/html": [],
      "text/plain": [
       "<IPython.core.display.HTML object>"
      ]
     },
     "metadata": {},
     "output_type": "display_data"
    },
    {
     "data": {
      "image/png": "[encoded data removed]",
      "text/plain": [
       "<Figure size 800x500 with 1 Axes>"
      ]
     },
     "metadata": {},
     "output_type": "display_data"
    }
   ],
   "source": [
    "s.plot_model(lr_tuned, plot=\"feature\")"
   ]
  }
 ],
 "metadata": {
  "kernelspec": {
   "display_name": "titanic-survival-analysis",
   "language": "python",
   "name": "python3"
  },
  "language_info": {
   "codemirror_mode": {
    "name": "ipython",
    "version": 3
   },
   "file_extension": ".py",
   "mimetype": "text/x-python",
   "name": "python",
   "nbconvert_exporter": "python",
   "pygments_lexer": "ipython3",
   "version": "3.9.6"
  }
 },
 "nbformat": 4,
 "nbformat_minor": 5
}
